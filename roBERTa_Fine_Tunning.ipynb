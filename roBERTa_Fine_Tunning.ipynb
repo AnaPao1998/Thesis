{
  "nbformat": 4,
  "nbformat_minor": 0,
  "metadata": {
    "kernelspec": {
      "display_name": "Python 3",
      "language": "python",
      "name": "python3"
    },
    "language_info": {
      "name": "python",
      "version": "3.6.6",
      "mimetype": "text/x-python",
      "codemirror_mode": {
        "name": "ipython",
        "version": 3
      },
      "pygments_lexer": "ipython3",
      "nbconvert_exporter": "python",
      "file_extension": ".py"
    },
    "colab": {
      "name": "roBERTa-Fine-Tunning.ipynb",
      "provenance": [],
      "collapsed_sections": [],
      "include_colab_link": true
    },
    "accelerator": "GPU"
  },
  "cells": [
    {
      "cell_type": "markdown",
      "metadata": {
        "id": "view-in-github",
        "colab_type": "text"
      },
      "source": [
        "<a href=\"https://colab.research.google.com/github/AnaPao1998/Thesis/blob/main/roBERTa_Fine_Tunning.ipynb\" target=\"_parent\"><img src=\"https://colab.research.google.com/assets/colab-badge.svg\" alt=\"Open In Colab\"/></a>"
      ]
    },
    {
      "cell_type": "markdown",
      "metadata": {
        "id": "8OhO4xlwqExT"
      },
      "source": [
        "# Fine Tuning Roberta for Sentiment Analysis\n",
        "\n",
        "\n",
        "\n"
      ]
    },
    {
      "cell_type": "markdown",
      "metadata": {
        "id": "97CEi-bdqExb"
      },
      "source": [
        "<a id='section01'></a>\n",
        "### Importing Python Libraries and preparing the environment\n",
        "\n",
        "At this step we will be importing the libraries and modules needed to run our script. Libraries are:\n",
        "* Pandas\n",
        "* Pytorch\n",
        "* Pytorch Utils for Dataset and Dataloader\n",
        "* Transformers\n",
        "* tqdm\n",
        "* sklearn\n",
        "* Robert Model and Tokenizer\n",
        "\n",
        "Followed by that we will preapre the device for CUDA exececution. This configuration is needed if you want to leverage on onboard GPU. "
      ]
    },
    {
      "cell_type": "code",
      "metadata": {
        "colab": {
          "base_uri": "https://localhost:8080/"
        },
        "id": "oU3zUn3A8848",
        "outputId": "2d80d7d6-7805-42e8-9db9-40ffbc7ed3a2"
      },
      "source": [
        "# Installing transformers\n",
        "!pip install transformers==3.0.2"
      ],
      "execution_count": null,
      "outputs": [
        {
          "output_type": "stream",
          "name": "stdout",
          "text": [
            "Requirement already satisfied: transformers==3.0.2 in /usr/local/lib/python3.7/dist-packages (3.0.2)\n",
            "Requirement already satisfied: tqdm>=4.27 in /usr/local/lib/python3.7/dist-packages (from transformers==3.0.2) (4.62.0)\n",
            "Requirement already satisfied: regex!=2019.12.17 in /usr/local/lib/python3.7/dist-packages (from transformers==3.0.2) (2019.12.20)\n",
            "Requirement already satisfied: sentencepiece!=0.1.92 in /usr/local/lib/python3.7/dist-packages (from transformers==3.0.2) (0.1.96)\n",
            "Requirement already satisfied: sacremoses in /usr/local/lib/python3.7/dist-packages (from transformers==3.0.2) (0.0.45)\n",
            "Requirement already satisfied: numpy in /usr/local/lib/python3.7/dist-packages (from transformers==3.0.2) (1.19.5)\n",
            "Requirement already satisfied: requests in /usr/local/lib/python3.7/dist-packages (from transformers==3.0.2) (2.23.0)\n",
            "Requirement already satisfied: filelock in /usr/local/lib/python3.7/dist-packages (from transformers==3.0.2) (3.0.12)\n",
            "Requirement already satisfied: packaging in /usr/local/lib/python3.7/dist-packages (from transformers==3.0.2) (21.0)\n",
            "Requirement already satisfied: tokenizers==0.8.1.rc1 in /usr/local/lib/python3.7/dist-packages (from transformers==3.0.2) (0.8.1rc1)\n",
            "Requirement already satisfied: pyparsing>=2.0.2 in /usr/local/lib/python3.7/dist-packages (from packaging->transformers==3.0.2) (2.4.7)\n",
            "Requirement already satisfied: idna<3,>=2.5 in /usr/local/lib/python3.7/dist-packages (from requests->transformers==3.0.2) (2.10)\n",
            "Requirement already satisfied: urllib3!=1.25.0,!=1.25.1,<1.26,>=1.21.1 in /usr/local/lib/python3.7/dist-packages (from requests->transformers==3.0.2) (1.24.3)\n",
            "Requirement already satisfied: certifi>=2017.4.17 in /usr/local/lib/python3.7/dist-packages (from requests->transformers==3.0.2) (2021.5.30)\n",
            "Requirement already satisfied: chardet<4,>=3.0.2 in /usr/local/lib/python3.7/dist-packages (from requests->transformers==3.0.2) (3.0.4)\n",
            "Requirement already satisfied: six in /usr/local/lib/python3.7/dist-packages (from sacremoses->transformers==3.0.2) (1.15.0)\n",
            "Requirement already satisfied: click in /usr/local/lib/python3.7/dist-packages (from sacremoses->transformers==3.0.2) (7.1.2)\n",
            "Requirement already satisfied: joblib in /usr/local/lib/python3.7/dist-packages (from sacremoses->transformers==3.0.2) (1.0.1)\n"
          ]
        }
      ]
    },
    {
      "cell_type": "code",
      "metadata": {
        "trusted": true,
        "_uuid": "e7b5f5ab6f8f300c8900321a91b9340376c986f2",
        "id": "979OUro5Eac3"
      },
      "source": [
        "# Importing the libraries needed\n",
        "import pandas as pd\n",
        "import numpy as np\n",
        "from sklearn.model_selection import train_test_split\n",
        "import torch\n",
        "import seaborn as sns\n",
        "import transformers\n",
        "import json\n",
        "from tqdm import tqdm\n",
        "from torch.utils.data import Dataset, DataLoader\n",
        "from transformers import RobertaModel, RobertaTokenizer\n",
        "import logging\n",
        "logging.basicConfig(level=logging.ERROR)"
      ],
      "execution_count": null,
      "outputs": []
    },
    {
      "cell_type": "code",
      "metadata": {
        "id": "sb1Q5N6LGK7z"
      },
      "source": [
        "# Setting up the device for GPU usage\n",
        "from torch import cuda\n",
        "device = 'cuda' if cuda.is_available() else 'cpu'"
      ],
      "execution_count": null,
      "outputs": []
    },
    {
      "cell_type": "code",
      "metadata": {
        "id": "uXo_vrlK-_g8",
        "colab": {
          "resources": {
            "http://localhost:8080/nbextensions/google.colab/files.js": {
              "data": "Ly8gQ29weXJpZ2h0IDIwMTcgR29vZ2xlIExMQwovLwovLyBMaWNlbnNlZCB1bmRlciB0aGUgQXBhY2hlIExpY2Vuc2UsIFZlcnNpb24gMi4wICh0aGUgIkxpY2Vuc2UiKTsKLy8geW91IG1heSBub3QgdXNlIHRoaXMgZmlsZSBleGNlcHQgaW4gY29tcGxpYW5jZSB3aXRoIHRoZSBMaWNlbnNlLgovLyBZb3UgbWF5IG9idGFpbiBhIGNvcHkgb2YgdGhlIExpY2Vuc2UgYXQKLy8KLy8gICAgICBodHRwOi8vd3d3LmFwYWNoZS5vcmcvbGljZW5zZXMvTElDRU5TRS0yLjAKLy8KLy8gVW5sZXNzIHJlcXVpcmVkIGJ5IGFwcGxpY2FibGUgbGF3IG9yIGFncmVlZCB0byBpbiB3cml0aW5nLCBzb2Z0d2FyZQovLyBkaXN0cmlidXRlZCB1bmRlciB0aGUgTGljZW5zZSBpcyBkaXN0cmlidXRlZCBvbiBhbiAiQVMgSVMiIEJBU0lTLAovLyBXSVRIT1VUIFdBUlJBTlRJRVMgT1IgQ09ORElUSU9OUyBPRiBBTlkgS0lORCwgZWl0aGVyIGV4cHJlc3Mgb3IgaW1wbGllZC4KLy8gU2VlIHRoZSBMaWNlbnNlIGZvciB0aGUgc3BlY2lmaWMgbGFuZ3VhZ2UgZ292ZXJuaW5nIHBlcm1pc3Npb25zIGFuZAovLyBsaW1pdGF0aW9ucyB1bmRlciB0aGUgTGljZW5zZS4KCi8qKgogKiBAZmlsZW92ZXJ2aWV3IEhlbHBlcnMgZm9yIGdvb2dsZS5jb2xhYiBQeXRob24gbW9kdWxlLgogKi8KKGZ1bmN0aW9uKHNjb3BlKSB7CmZ1bmN0aW9uIHNwYW4odGV4dCwgc3R5bGVBdHRyaWJ1dGVzID0ge30pIHsKICBjb25zdCBlbGVtZW50ID0gZG9jdW1lbnQuY3JlYXRlRWxlbWVudCgnc3BhbicpOwogIGVsZW1lbnQudGV4dENvbnRlbnQgPSB0ZXh0OwogIGZvciAoY29uc3Qga2V5IG9mIE9iamVjdC5rZXlzKHN0eWxlQXR0cmlidXRlcykpIHsKICAgIGVsZW1lbnQuc3R5bGVba2V5XSA9IHN0eWxlQXR0cmlidXRlc1trZXldOwogIH0KICByZXR1cm4gZWxlbWVudDsKfQoKLy8gTWF4IG51bWJlciBvZiBieXRlcyB3aGljaCB3aWxsIGJlIHVwbG9hZGVkIGF0IGEgdGltZS4KY29uc3QgTUFYX1BBWUxPQURfU0laRSA9IDEwMCAqIDEwMjQ7CgpmdW5jdGlvbiBfdXBsb2FkRmlsZXMoaW5wdXRJZCwgb3V0cHV0SWQpIHsKICBjb25zdCBzdGVwcyA9IHVwbG9hZEZpbGVzU3RlcChpbnB1dElkLCBvdXRwdXRJZCk7CiAgY29uc3Qgb3V0cHV0RWxlbWVudCA9IGRvY3VtZW50LmdldEVsZW1lbnRCeUlkKG91dHB1dElkKTsKICAvLyBDYWNoZSBzdGVwcyBvbiB0aGUgb3V0cHV0RWxlbWVudCB0byBtYWtlIGl0IGF2YWlsYWJsZSBmb3IgdGhlIG5leHQgY2FsbAogIC8vIHRvIHVwbG9hZEZpbGVzQ29udGludWUgZnJvbSBQeXRob24uCiAgb3V0cHV0RWxlbWVudC5zdGVwcyA9IHN0ZXBzOwoKICByZXR1cm4gX3VwbG9hZEZpbGVzQ29udGludWUob3V0cHV0SWQpOwp9CgovLyBUaGlzIGlzIHJvdWdobHkgYW4gYXN5bmMgZ2VuZXJhdG9yIChub3Qgc3VwcG9ydGVkIGluIHRoZSBicm93c2VyIHlldCksCi8vIHdoZXJlIHRoZXJlIGFyZSBtdWx0aXBsZSBhc3luY2hyb25vdXMgc3RlcHMgYW5kIHRoZSBQeXRob24gc2lkZSBpcyBnb2luZwovLyB0byBwb2xsIGZvciBjb21wbGV0aW9uIG9mIGVhY2ggc3RlcC4KLy8gVGhpcyB1c2VzIGEgUHJvbWlzZSB0byBibG9jayB0aGUgcHl0aG9uIHNpZGUgb24gY29tcGxldGlvbiBvZiBlYWNoIHN0ZXAsCi8vIHRoZW4gcGFzc2VzIHRoZSByZXN1bHQgb2YgdGhlIHByZXZpb3VzIHN0ZXAgYXMgdGhlIGlucHV0IHRvIHRoZSBuZXh0IHN0ZXAuCmZ1bmN0aW9uIF91cGxvYWRGaWxlc0NvbnRpbnVlKG91dHB1dElkKSB7CiAgY29uc3Qgb3V0cHV0RWxlbWVudCA9IGRvY3VtZW50LmdldEVsZW1lbnRCeUlkKG91dHB1dElkKTsKICBjb25zdCBzdGVwcyA9IG91dHB1dEVsZW1lbnQuc3RlcHM7CgogIGNvbnN0IG5leHQgPSBzdGVwcy5uZXh0KG91dHB1dEVsZW1lbnQubGFzdFByb21pc2VWYWx1ZSk7CiAgcmV0dXJuIFByb21pc2UucmVzb2x2ZShuZXh0LnZhbHVlLnByb21pc2UpLnRoZW4oKHZhbHVlKSA9PiB7CiAgICAvLyBDYWNoZSB0aGUgbGFzdCBwcm9taXNlIHZhbHVlIHRvIG1ha2UgaXQgYXZhaWxhYmxlIHRvIHRoZSBuZXh0CiAgICAvLyBzdGVwIG9mIHRoZSBnZW5lcmF0b3IuCiAgICBvdXRwdXRFbGVtZW50Lmxhc3RQcm9taXNlVmFsdWUgPSB2YWx1ZTsKICAgIHJldHVybiBuZXh0LnZhbHVlLnJlc3BvbnNlOwogIH0pOwp9CgovKioKICogR2VuZXJhdG9yIGZ1bmN0aW9uIHdoaWNoIGlzIGNhbGxlZCBiZXR3ZWVuIGVhY2ggYXN5bmMgc3RlcCBvZiB0aGUgdXBsb2FkCiAqIHByb2Nlc3MuCiAqIEBwYXJhbSB7c3RyaW5nfSBpbnB1dElkIEVsZW1lbnQgSUQgb2YgdGhlIGlucHV0IGZpbGUgcGlja2VyIGVsZW1lbnQuCiAqIEBwYXJhbSB7c3RyaW5nfSBvdXRwdXRJZCBFbGVtZW50IElEIG9mIHRoZSBvdXRwdXQgZGlzcGxheS4KICogQHJldHVybiB7IUl0ZXJhYmxlPCFPYmplY3Q+fSBJdGVyYWJsZSBvZiBuZXh0IHN0ZXBzLgogKi8KZnVuY3Rpb24qIHVwbG9hZEZpbGVzU3RlcChpbnB1dElkLCBvdXRwdXRJZCkgewogIGNvbnN0IGlucHV0RWxlbWVudCA9IGRvY3VtZW50LmdldEVsZW1lbnRCeUlkKGlucHV0SWQpOwogIGlucHV0RWxlbWVudC5kaXNhYmxlZCA9IGZhbHNlOwoKICBjb25zdCBvdXRwdXRFbGVtZW50ID0gZG9jdW1lbnQuZ2V0RWxlbWVudEJ5SWQob3V0cHV0SWQpOwogIG91dHB1dEVsZW1lbnQuaW5uZXJIVE1MID0gJyc7CgogIGNvbnN0IHBpY2tlZFByb21pc2UgPSBuZXcgUHJvbWlzZSgocmVzb2x2ZSkgPT4gewogICAgaW5wdXRFbGVtZW50LmFkZEV2ZW50TGlzdGVuZXIoJ2NoYW5nZScsIChlKSA9PiB7CiAgICAgIHJlc29sdmUoZS50YXJnZXQuZmlsZXMpOwogICAgfSk7CiAgfSk7CgogIGNvbnN0IGNhbmNlbCA9IGRvY3VtZW50LmNyZWF0ZUVsZW1lbnQoJ2J1dHRvbicpOwogIGlucHV0RWxlbWVudC5wYXJlbnRFbGVtZW50LmFwcGVuZENoaWxkKGNhbmNlbCk7CiAgY2FuY2VsLnRleHRDb250ZW50ID0gJ0NhbmNlbCB1cGxvYWQnOwogIGNvbnN0IGNhbmNlbFByb21pc2UgPSBuZXcgUHJvbWlzZSgocmVzb2x2ZSkgPT4gewogICAgY2FuY2VsLm9uY2xpY2sgPSAoKSA9PiB7CiAgICAgIHJlc29sdmUobnVsbCk7CiAgICB9OwogIH0pOwoKICAvLyBXYWl0IGZvciB0aGUgdXNlciB0byBwaWNrIHRoZSBmaWxlcy4KICBjb25zdCBmaWxlcyA9IHlpZWxkIHsKICAgIHByb21pc2U6IFByb21pc2UucmFjZShbcGlja2VkUHJvbWlzZSwgY2FuY2VsUHJvbWlzZV0pLAogICAgcmVzcG9uc2U6IHsKICAgICAgYWN0aW9uOiAnc3RhcnRpbmcnLAogICAgfQogIH07CgogIGNhbmNlbC5yZW1vdmUoKTsKCiAgLy8gRGlzYWJsZSB0aGUgaW5wdXQgZWxlbWVudCBzaW5jZSBmdXJ0aGVyIHBpY2tzIGFyZSBub3QgYWxsb3dlZC4KICBpbnB1dEVsZW1lbnQuZGlzYWJsZWQgPSB0cnVlOwoKICBpZiAoIWZpbGVzKSB7CiAgICByZXR1cm4gewogICAgICByZXNwb25zZTogewogICAgICAgIGFjdGlvbjogJ2NvbXBsZXRlJywKICAgICAgfQogICAgfTsKICB9CgogIGZvciAoY29uc3QgZmlsZSBvZiBmaWxlcykgewogICAgY29uc3QgbGkgPSBkb2N1bWVudC5jcmVhdGVFbGVtZW50KCdsaScpOwogICAgbGkuYXBwZW5kKHNwYW4oZmlsZS5uYW1lLCB7Zm9udFdlaWdodDogJ2JvbGQnfSkpOwogICAgbGkuYXBwZW5kKHNwYW4oCiAgICAgICAgYCgke2ZpbGUudHlwZSB8fCAnbi9hJ30pIC0gJHtmaWxlLnNpemV9IGJ5dGVzLCBgICsKICAgICAgICBgbGFzdCBtb2RpZmllZDogJHsKICAgICAgICAgICAgZmlsZS5sYXN0TW9kaWZpZWREYXRlID8gZmlsZS5sYXN0TW9kaWZpZWREYXRlLnRvTG9jYWxlRGF0ZVN0cmluZygpIDoKICAgICAgICAgICAgICAgICAgICAgICAgICAgICAgICAgICAgJ24vYSd9IC0gYCkpOwogICAgY29uc3QgcGVyY2VudCA9IHNwYW4oJzAlIGRvbmUnKTsKICAgIGxpLmFwcGVuZENoaWxkKHBlcmNlbnQpOwoKICAgIG91dHB1dEVsZW1lbnQuYXBwZW5kQ2hpbGQobGkpOwoKICAgIGNvbnN0IGZpbGVEYXRhUHJvbWlzZSA9IG5ldyBQcm9taXNlKChyZXNvbHZlKSA9PiB7CiAgICAgIGNvbnN0IHJlYWRlciA9IG5ldyBGaWxlUmVhZGVyKCk7CiAgICAgIHJlYWRlci5vbmxvYWQgPSAoZSkgPT4gewogICAgICAgIHJlc29sdmUoZS50YXJnZXQucmVzdWx0KTsKICAgICAgfTsKICAgICAgcmVhZGVyLnJlYWRBc0FycmF5QnVmZmVyKGZpbGUpOwogICAgfSk7CiAgICAvLyBXYWl0IGZvciB0aGUgZGF0YSB0byBiZSByZWFkeS4KICAgIGxldCBmaWxlRGF0YSA9IHlpZWxkIHsKICAgICAgcHJvbWlzZTogZmlsZURhdGFQcm9taXNlLAogICAgICByZXNwb25zZTogewogICAgICAgIGFjdGlvbjogJ2NvbnRpbnVlJywKICAgICAgfQogICAgfTsKCiAgICAvLyBVc2UgYSBjaHVua2VkIHNlbmRpbmcgdG8gYXZvaWQgbWVzc2FnZSBzaXplIGxpbWl0cy4gU2VlIGIvNjIxMTU2NjAuCiAgICBsZXQgcG9zaXRpb24gPSAwOwogICAgZG8gewogICAgICBjb25zdCBsZW5ndGggPSBNYXRoLm1pbihmaWxlRGF0YS5ieXRlTGVuZ3RoIC0gcG9zaXRpb24sIE1BWF9QQVlMT0FEX1NJWkUpOwogICAgICBjb25zdCBjaHVuayA9IG5ldyBVaW50OEFycmF5KGZpbGVEYXRhLCBwb3NpdGlvbiwgbGVuZ3RoKTsKICAgICAgcG9zaXRpb24gKz0gbGVuZ3RoOwoKICAgICAgY29uc3QgYmFzZTY0ID0gYnRvYShTdHJpbmcuZnJvbUNoYXJDb2RlLmFwcGx5KG51bGwsIGNodW5rKSk7CiAgICAgIHlpZWxkIHsKICAgICAgICByZXNwb25zZTogewogICAgICAgICAgYWN0aW9uOiAnYXBwZW5kJywKICAgICAgICAgIGZpbGU6IGZpbGUubmFtZSwKICAgICAgICAgIGRhdGE6IGJhc2U2NCwKICAgICAgICB9LAogICAgICB9OwoKICAgICAgbGV0IHBlcmNlbnREb25lID0gZmlsZURhdGEuYnl0ZUxlbmd0aCA9PT0gMCA/CiAgICAgICAgICAxMDAgOgogICAgICAgICAgTWF0aC5yb3VuZCgocG9zaXRpb24gLyBmaWxlRGF0YS5ieXRlTGVuZ3RoKSAqIDEwMCk7CiAgICAgIHBlcmNlbnQudGV4dENvbnRlbnQgPSBgJHtwZXJjZW50RG9uZX0lIGRvbmVgOwoKICAgIH0gd2hpbGUgKHBvc2l0aW9uIDwgZmlsZURhdGEuYnl0ZUxlbmd0aCk7CiAgfQoKICAvLyBBbGwgZG9uZS4KICB5aWVsZCB7CiAgICByZXNwb25zZTogewogICAgICBhY3Rpb246ICdjb21wbGV0ZScsCiAgICB9CiAgfTsKfQoKc2NvcGUuZ29vZ2xlID0gc2NvcGUuZ29vZ2xlIHx8IHt9OwpzY29wZS5nb29nbGUuY29sYWIgPSBzY29wZS5nb29nbGUuY29sYWIgfHwge307CnNjb3BlLmdvb2dsZS5jb2xhYi5fZmlsZXMgPSB7CiAgX3VwbG9hZEZpbGVzLAogIF91cGxvYWRGaWxlc0NvbnRpbnVlLAp9Owp9KShzZWxmKTsK",
              "ok": true,
              "headers": [
                [
                  "content-type",
                  "application/javascript"
                ]
              ],
              "status": 200,
              "status_text": ""
            }
          },
          "base_uri": "https://localhost:8080/",
          "height": 73
        },
        "outputId": "fd06773f-ba8b-4885-b0ae-4302981827b9"
      },
      "source": [
        "# Uploading files from local \n",
        "# DEPRESSION .CSV\n",
        "from google.colab import files\n",
        "uploaded = files.upload()"
      ],
      "execution_count": null,
      "outputs": [
        {
          "output_type": "display_data",
          "data": {
            "text/html": [
              "\n",
              "     <input type=\"file\" id=\"files-f7a5d18d-8e0a-46d8-9e00-d4492bb0e45c\" name=\"files[]\" multiple disabled\n",
              "        style=\"border:none\" />\n",
              "     <output id=\"result-f7a5d18d-8e0a-46d8-9e00-d4492bb0e45c\">\n",
              "      Upload widget is only available when the cell has been executed in the\n",
              "      current browser session. Please rerun this cell to enable.\n",
              "      </output>\n",
              "      <script src=\"/nbextensions/google.colab/files.js\"></script> "
            ],
            "text/plain": [
              "<IPython.core.display.HTML object>"
            ]
          },
          "metadata": {}
        },
        {
          "output_type": "stream",
          "name": "stdout",
          "text": [
            "Saving depression.csv to depression (1).csv\n"
          ]
        }
      ]
    },
    {
      "cell_type": "code",
      "metadata": {
        "id": "mW4Plm6sB9ir"
      },
      "source": [
        "# Dataset is now stored as a Pandas Dataframe\n",
        "import io\n",
        "depression_df = pd.read_csv(io.BytesIO(uploaded['depression.csv']))"
      ],
      "execution_count": null,
      "outputs": []
    },
    {
      "cell_type": "code",
      "metadata": {
        "id": "z0i49kA1DHzB",
        "colab": {
          "base_uri": "https://localhost:8080/",
          "height": 502
        },
        "outputId": "9cdeb50e-ac5e-4489-c284-e751010e8fdb"
      },
      "source": [
        "depression_df.head()"
      ],
      "execution_count": null,
      "outputs": [
        {
          "output_type": "execute_result",
          "data": {
            "text/html": [
              "<div>\n",
              "<style scoped>\n",
              "    .dataframe tbody tr th:only-of-type {\n",
              "        vertical-align: middle;\n",
              "    }\n",
              "\n",
              "    .dataframe tbody tr th {\n",
              "        vertical-align: top;\n",
              "    }\n",
              "\n",
              "    .dataframe thead th {\n",
              "        text-align: right;\n",
              "    }\n",
              "</style>\n",
              "<table border=\"1\" class=\"dataframe\">\n",
              "  <thead>\n",
              "    <tr style=\"text-align: right;\">\n",
              "      <th></th>\n",
              "      <th>renderedContent</th>\n",
              "      <th>pre_processed</th>\n",
              "      <th>label_sentiment</th>\n",
              "      <th>probability_sentiment</th>\n",
              "      <th>label_emotion</th>\n",
              "      <th>probability_emotion</th>\n",
              "      <th>label_irony</th>\n",
              "      <th>probability_irony</th>\n",
              "      <th>Unnamed: 8</th>\n",
              "      <th>depresion</th>\n",
              "    </tr>\n",
              "  </thead>\n",
              "  <tbody>\n",
              "    <tr>\n",
              "      <th>0</th>\n",
              "      <td>Too many shootings, too many lives lost from e...</td>\n",
              "      <td>many shootings, many lives lost evil people po...</td>\n",
              "      <td>negative</td>\n",
              "      <td>0.722731</td>\n",
              "      <td>sadness</td>\n",
              "      <td>0.641728</td>\n",
              "      <td>non_irony</td>\n",
              "      <td>0.648788</td>\n",
              "      <td>NaN</td>\n",
              "      <td>True</td>\n",
              "    </tr>\n",
              "    <tr>\n",
              "      <th>1</th>\n",
              "      <td>i hate having to walk back into my depression ...</td>\n",
              "      <td>hate walk back depression den i’ve completely ...</td>\n",
              "      <td>negative</td>\n",
              "      <td>0.651571</td>\n",
              "      <td>sadness</td>\n",
              "      <td>0.966754</td>\n",
              "      <td>non_irony</td>\n",
              "      <td>0.822530</td>\n",
              "      <td>NaN</td>\n",
              "      <td>True</td>\n",
              "    </tr>\n",
              "    <tr>\n",
              "      <th>2</th>\n",
              "      <td>Seriously. 2019 decided to kick my ass one mor...</td>\n",
              "      <td>seriously. decided kick ass one time. i'm list...</td>\n",
              "      <td>negative</td>\n",
              "      <td>0.700923</td>\n",
              "      <td>anger</td>\n",
              "      <td>0.931618</td>\n",
              "      <td>non_irony</td>\n",
              "      <td>0.892144</td>\n",
              "      <td>NaN</td>\n",
              "      <td>True</td>\n",
              "    </tr>\n",
              "    <tr>\n",
              "      <th>3</th>\n",
              "      <td>First 2020 depression... yay... 👌🏻 I hate my l...</td>\n",
              "      <td>first depression... yay... 👌🏻 hate life.</td>\n",
              "      <td>negative</td>\n",
              "      <td>0.743294</td>\n",
              "      <td>sadness</td>\n",
              "      <td>0.834031</td>\n",
              "      <td>irony</td>\n",
              "      <td>0.984495</td>\n",
              "      <td>NaN</td>\n",
              "      <td>False</td>\n",
              "    </tr>\n",
              "    <tr>\n",
              "      <th>4</th>\n",
              "      <td>I hate that being upfront with your emotional ...</td>\n",
              "      <td>hate upfront emotional state adult seen \"atten...</td>\n",
              "      <td>negative</td>\n",
              "      <td>0.919534</td>\n",
              "      <td>sadness</td>\n",
              "      <td>0.794845</td>\n",
              "      <td>non_irony</td>\n",
              "      <td>0.844464</td>\n",
              "      <td>NaN</td>\n",
              "      <td>True</td>\n",
              "    </tr>\n",
              "  </tbody>\n",
              "</table>\n",
              "</div>"
            ],
            "text/plain": [
              "                                     renderedContent  ... depresion\n",
              "0  Too many shootings, too many lives lost from e...  ...      True\n",
              "1  i hate having to walk back into my depression ...  ...      True\n",
              "2  Seriously. 2019 decided to kick my ass one mor...  ...      True\n",
              "3  First 2020 depression... yay... 👌🏻 I hate my l...  ...     False\n",
              "4  I hate that being upfront with your emotional ...  ...      True\n",
              "\n",
              "[5 rows x 10 columns]"
            ]
          },
          "metadata": {},
          "execution_count": 6
        }
      ]
    },
    {
      "cell_type": "code",
      "metadata": {
        "id": "4SrSey1JnJVX",
        "colab": {
          "base_uri": "https://localhost:8080/"
        },
        "outputId": "4cea3f4f-e26e-44d5-f211-a39995c4621b"
      },
      "source": [
        "# Splitting dataset\n",
        "# Split imbalanced dataset into train and test sets with stratification\n",
        "from sklearn.model_selection import train_test_split\n",
        "\n",
        "# full_X uses only 2 columns of my df\n",
        "full_X = depression_df[['pre_processed', 'depresion']]\n",
        "# depression_df = depression_df.head(100)\n",
        "X=depression_df[['pre_processed']]\n",
        "y=depression_df[['depresion']]\n",
        "\n",
        "# Split into train test sets\n",
        "# Stratification is useful for imbalaced data, in this case \"y\" are the labels, and that labels are being separated equally in the train/test sets\n",
        "# Since the test_size equals to 0.20, the data is splitted in 800 for training and 200 for testing\n",
        "train_data, validation_data, y_train, y_test = train_test_split(full_X, y, test_size=0.20, random_state=1, stratify=y)\n",
        "\n",
        "# Reseting index due to errors\n",
        "train_data = train_data.reset_index(drop=True)\n",
        "validation_data = validation_data.reset_index(drop=True)\n",
        "\n",
        "print((train_data.shape))\n",
        "print((validation_data.shape))"
      ],
      "execution_count": null,
      "outputs": [
        {
          "output_type": "stream",
          "name": "stdout",
          "text": [
            "(800, 2)\n",
            "(200, 2)\n"
          ]
        }
      ]
    },
    {
      "cell_type": "markdown",
      "metadata": {
        "id": "c3Q9NDdmqEyo"
      },
      "source": [
        "<a id='section03'></a>\n",
        "### Preparing the Dataset and Dataloader\n",
        "\n",
        "I will start with defining few key variables that will be used later during the training/fine tuning stage.\n",
        "Followed by creation of Dataset class - This defines how the text is pre-processed before sending it to the neural network. I will also define the Dataloader that will feed  the data in batches to the neural network for suitable training and processing. \n",
        "Dataset and Dataloader are constructs of the PyTorch library for defining and controlling the data pre-processing and its passage to neural network. For further reading into Dataset and Dataloader read the [docs at PyTorch](https://pytorch.org/docs/stable/data.html)\n",
        "\n",
        "#### *SentimentData* Dataset Class\n",
        "- This class is defined to accept the Dataframe as input and generate tokenized output that is used by the Roberta model for training. \n",
        "- The tokenizer uses the `encode_plus` method to perform tokenization and generate the necessary outputs, namely: `ids`, `attention_mask`\n",
        "- To read further into the tokenizer, [refer to this document](https://huggingface.co/transformers/model_doc/roberta.html#robertatokenizer)\n",
        "- `target` is the encoded category on the news headline. \n",
        "- The *SentimentData* class is used to create 2 datasets, for training and for validation.\n",
        "- *Training Dataset* is used to fine tune the model: **80% of the original data**\n",
        "- *Validation Dataset* is used to evaluate the performance of the model. The model has not seen this data during training. \n",
        "\n",
        "#### Dataloader\n",
        "- Dataloader is used to for creating training and validation dataloader that load data to the neural network in a defined manner. This is needed because all the data from the dataset cannot be loaded to the memory at once, hence the amount of dataloaded to the memory and then passed to the neural network needs to be controlled.\n",
        "- This control is achieved using the parameters such as `batch_size` and `max_len`.\n",
        "- Training and Validation dataloaders are used in the training and validation part of the flow respectively"
      ]
    },
    {
      "cell_type": "code",
      "metadata": {
        "id": "nvXxpfNCGER2"
      },
      "source": [
        "# Defining some key variables that will be used later on in the training\n",
        "MAX_LEN = 256\n",
        "TRAIN_BATCH_SIZE = 8\n",
        "VALID_BATCH_SIZE = 4\n",
        "# EPOCHS = 1\n",
        "LEARNING_RATE = 1e-05\n",
        "tokenizer = RobertaTokenizer.from_pretrained('roberta-base', truncation=True, do_lower_case=True)"
      ],
      "execution_count": null,
      "outputs": []
    },
    {
      "cell_type": "code",
      "metadata": {
        "id": "3vWRDemOGxJD"
      },
      "source": [
        "# This class is defined to accept the Dataframe as input and generate tokenized output that is used by the Roberta model for training\n",
        "class SentimentData(Dataset):\n",
        "    def __init__(self, dataframe, tokenizer, max_len):\n",
        "        self.tokenizer = tokenizer\n",
        "        self.data = dataframe\n",
        "        self.text = dataframe.pre_processed\n",
        "        self.targets = self.data.depresion\n",
        "        self.max_len = max_len\n",
        "\n",
        "    def __len__(self):\n",
        "        return len(self.text)\n",
        "\n",
        "    def __getitem__(self, index):\n",
        "        text = str(self.text[index])\n",
        "        text = \" \".join(text.split())\n",
        "\n",
        "# The tokenizer uses the encode_plus method to perform tokenization and generate the necessary outputs, namely: ids, attention_mask\n",
        "        inputs = self.tokenizer.encode_plus(\n",
        "            text,\n",
        "            None,\n",
        "            add_special_tokens=True,\n",
        "            max_length=self.max_len,\n",
        "            pad_to_max_length=True,\n",
        "            return_token_type_ids=True\n",
        "        )\n",
        "        ids = inputs['input_ids']\n",
        "        mask = inputs['attention_mask']\n",
        "        token_type_ids = inputs[\"token_type_ids\"]\n",
        "\n",
        "\n",
        "        return {\n",
        "            'ids': torch.tensor(ids, dtype=torch.long),\n",
        "            'mask': torch.tensor(mask, dtype=torch.long),\n",
        "            'token_type_ids': torch.tensor(token_type_ids, dtype=torch.long),\n",
        "            'targets': torch.tensor(self.targets[index], dtype=torch.float)\n",
        "        }"
      ],
      "execution_count": null,
      "outputs": []
    },
    {
      "cell_type": "code",
      "metadata": {
        "id": "7Gpe9D1QHoCd",
        "colab": {
          "base_uri": "https://localhost:8080/"
        },
        "outputId": "4ce33193-be50-40fe-d272-ebe93395771f"
      },
      "source": [
        "# train_size = 0.8\n",
        "# train_data=new_df.sample(frac=train_size,random_state=200)\n",
        "# validation_data=new_df.drop(train_data.index).reset_index(drop=True)\n",
        "# train_data = train_data.reset_index(drop=True)\n",
        "\n",
        "# The SentimentData class is used to create 2 datasets, for training and for validation.\n",
        "print(f\"FULL Dataset: {full_X.shape}\")\n",
        "# Training Dataset is used to fine tune the model: 80% of the original data\n",
        "print(f\"TRAIN Dataset: {train_data.shape}\")\n",
        "# Validation Dataset is used to evaluate the performance of the model. The model has not seen this data during training.\n",
        "print(f\"VALIDATION Dataset: {validation_data.shape}\")\n",
        "\n",
        "training_set = SentimentData(train_data, tokenizer, MAX_LEN)\n",
        "#change to valid\n",
        "valid_set = SentimentData(validation_data, tokenizer, MAX_LEN)"
      ],
      "execution_count": null,
      "outputs": [
        {
          "output_type": "stream",
          "name": "stdout",
          "text": [
            "FULL Dataset: (1000, 2)\n",
            "TRAIN Dataset: (800, 2)\n",
            "VALIDATION Dataset: (200, 2)\n"
          ]
        }
      ]
    },
    {
      "cell_type": "code",
      "metadata": {
        "trusted": true,
        "_uuid": "9fc198d13d7f33dc70588c3f22bc7b7c4f4ebb45",
        "id": "c1tInLk2Eadt"
      },
      "source": [
        "train_params = {'batch_size': TRAIN_BATCH_SIZE,\n",
        "                'shuffle': True,\n",
        "                'num_workers': 0\n",
        "                }\n",
        "\n",
        "#valid params\n",
        "test_params = {'batch_size': VALID_BATCH_SIZE,\n",
        "                'shuffle': True,\n",
        "                'num_workers': 0\n",
        "                }\n",
        "\n",
        "# Dataloader is used to for creating training and validation dataloader that load data to the neural network in a defined manner. \n",
        "# This is needed because all the data from the dataset cannot be loaded to the memory at once, hence the amount of dataloaded to the memory and\n",
        "# then passed to the neural network needs to be controlled.\n",
        "\n",
        "training_loader = DataLoader(training_set, **train_params)\n",
        "validation_loader = DataLoader(valid_set, **test_params)"
      ],
      "execution_count": null,
      "outputs": []
    },
    {
      "cell_type": "markdown",
      "metadata": {
        "id": "yZk0A9K8qE0C"
      },
      "source": [
        "<a id='section04'></a>\n",
        "### Creating the Neural Network for Fine Tuning\n",
        "\n",
        "#### Neural Network\n",
        " - We will be creating a neural network with the `RobertaClass`. \n",
        " - This network will have the Roberta Language model followed by a `dropout` and finally a `Linear` layer to obtain the final outputs. \n",
        " - The data will be fed to the Roberta Language model as defined in the dataset. \n",
        " - Final layer outputs is what will be compared to the `Sentiment category` to determine the accuracy of models prediction. \n",
        " - We will initiate an instance of the network called `model`. This instance will be used for training and then to save the final trained model for future inference. \n",
        " \n",
        "#### Loss Function and Optimizer\n",
        " - `Loss Function` and `Optimizer` and defined in the next cell.\n",
        " - The `Loss Function` is used the calculate the difference in the output created by the model and the actual output. \n",
        " - `Optimizer` is used to update the weights of the neural network to improve its performance."
      ]
    },
    {
      "cell_type": "code",
      "metadata": {
        "trusted": true,
        "_uuid": "cb8f194ee79d76356be0002b0e18f947e1412d66",
        "id": "HMqQTafXEaei"
      },
      "source": [
        "# We will be creating a neural network with the RobertaClass.\n",
        "class RobertaClass(torch.nn.Module):\n",
        "# This network will have the Roberta Language model followed by a dropout and finally a Linear layer to obtain the final outputs.\n",
        "    def __init__(self):\n",
        "        super(RobertaClass, self).__init__()\n",
        "        self.l1 = RobertaModel.from_pretrained(\"roberta-base\")\n",
        "        self.pre_classifier = torch.nn.Linear(768, 768)\n",
        "        self.dropout = torch.nn.Dropout(0.3)\n",
        "        # changing output to 2 insted of 5 (depression, non-depression)\n",
        "        # 768 neurons and converting 2 \n",
        "        self.classifier = torch.nn.Linear(768, 2)\n",
        "\n",
        "    def forward(self, input_ids, attention_mask, token_type_ids):\n",
        "        output_1 = self.l1(input_ids=input_ids, attention_mask=attention_mask, token_type_ids=token_type_ids)\n",
        "        hidden_state = output_1[0]\n",
        "        pooler = hidden_state[:, 0]\n",
        "        pooler = self.pre_classifier(pooler)\n",
        "        # adding a RELU layer\n",
        "        pooler = torch.nn.ReLU()(pooler)\n",
        "        # adding a dropout\n",
        "        pooler = self.dropout(pooler)\n",
        "        # adding a classifier\n",
        "        output = self.classifier(pooler)\n",
        "        return output"
      ],
      "execution_count": null,
      "outputs": []
    },
    {
      "cell_type": "code",
      "metadata": {
        "id": "sZ55mIPZIkp_",
        "colab": {
          "base_uri": "https://localhost:8080/"
        },
        "outputId": "1c4ac3c1-48da-4a9c-d6fa-8f7442a3b71e"
      },
      "source": [
        "# We will initiate an instance of the network called mental-health-model. This instance will be used for training and then to save the final trained model\n",
        "mental_health_model = RobertaClass()\n",
        "mental_health_model.to(device)"
      ],
      "execution_count": null,
      "outputs": [
        {
          "output_type": "execute_result",
          "data": {
            "text/plain": [
              "RobertaClass(\n",
              "  (l1): RobertaModel(\n",
              "    (embeddings): RobertaEmbeddings(\n",
              "      (word_embeddings): Embedding(50265, 768, padding_idx=1)\n",
              "      (position_embeddings): Embedding(514, 768, padding_idx=1)\n",
              "      (token_type_embeddings): Embedding(1, 768)\n",
              "      (LayerNorm): LayerNorm((768,), eps=1e-05, elementwise_affine=True)\n",
              "      (dropout): Dropout(p=0.1, inplace=False)\n",
              "    )\n",
              "    (encoder): BertEncoder(\n",
              "      (layer): ModuleList(\n",
              "        (0): BertLayer(\n",
              "          (attention): BertAttention(\n",
              "            (self): BertSelfAttention(\n",
              "              (query): Linear(in_features=768, out_features=768, bias=True)\n",
              "              (key): Linear(in_features=768, out_features=768, bias=True)\n",
              "              (value): Linear(in_features=768, out_features=768, bias=True)\n",
              "              (dropout): Dropout(p=0.1, inplace=False)\n",
              "            )\n",
              "            (output): BertSelfOutput(\n",
              "              (dense): Linear(in_features=768, out_features=768, bias=True)\n",
              "              (LayerNorm): LayerNorm((768,), eps=1e-05, elementwise_affine=True)\n",
              "              (dropout): Dropout(p=0.1, inplace=False)\n",
              "            )\n",
              "          )\n",
              "          (intermediate): BertIntermediate(\n",
              "            (dense): Linear(in_features=768, out_features=3072, bias=True)\n",
              "          )\n",
              "          (output): BertOutput(\n",
              "            (dense): Linear(in_features=3072, out_features=768, bias=True)\n",
              "            (LayerNorm): LayerNorm((768,), eps=1e-05, elementwise_affine=True)\n",
              "            (dropout): Dropout(p=0.1, inplace=False)\n",
              "          )\n",
              "        )\n",
              "        (1): BertLayer(\n",
              "          (attention): BertAttention(\n",
              "            (self): BertSelfAttention(\n",
              "              (query): Linear(in_features=768, out_features=768, bias=True)\n",
              "              (key): Linear(in_features=768, out_features=768, bias=True)\n",
              "              (value): Linear(in_features=768, out_features=768, bias=True)\n",
              "              (dropout): Dropout(p=0.1, inplace=False)\n",
              "            )\n",
              "            (output): BertSelfOutput(\n",
              "              (dense): Linear(in_features=768, out_features=768, bias=True)\n",
              "              (LayerNorm): LayerNorm((768,), eps=1e-05, elementwise_affine=True)\n",
              "              (dropout): Dropout(p=0.1, inplace=False)\n",
              "            )\n",
              "          )\n",
              "          (intermediate): BertIntermediate(\n",
              "            (dense): Linear(in_features=768, out_features=3072, bias=True)\n",
              "          )\n",
              "          (output): BertOutput(\n",
              "            (dense): Linear(in_features=3072, out_features=768, bias=True)\n",
              "            (LayerNorm): LayerNorm((768,), eps=1e-05, elementwise_affine=True)\n",
              "            (dropout): Dropout(p=0.1, inplace=False)\n",
              "          )\n",
              "        )\n",
              "        (2): BertLayer(\n",
              "          (attention): BertAttention(\n",
              "            (self): BertSelfAttention(\n",
              "              (query): Linear(in_features=768, out_features=768, bias=True)\n",
              "              (key): Linear(in_features=768, out_features=768, bias=True)\n",
              "              (value): Linear(in_features=768, out_features=768, bias=True)\n",
              "              (dropout): Dropout(p=0.1, inplace=False)\n",
              "            )\n",
              "            (output): BertSelfOutput(\n",
              "              (dense): Linear(in_features=768, out_features=768, bias=True)\n",
              "              (LayerNorm): LayerNorm((768,), eps=1e-05, elementwise_affine=True)\n",
              "              (dropout): Dropout(p=0.1, inplace=False)\n",
              "            )\n",
              "          )\n",
              "          (intermediate): BertIntermediate(\n",
              "            (dense): Linear(in_features=768, out_features=3072, bias=True)\n",
              "          )\n",
              "          (output): BertOutput(\n",
              "            (dense): Linear(in_features=3072, out_features=768, bias=True)\n",
              "            (LayerNorm): LayerNorm((768,), eps=1e-05, elementwise_affine=True)\n",
              "            (dropout): Dropout(p=0.1, inplace=False)\n",
              "          )\n",
              "        )\n",
              "        (3): BertLayer(\n",
              "          (attention): BertAttention(\n",
              "            (self): BertSelfAttention(\n",
              "              (query): Linear(in_features=768, out_features=768, bias=True)\n",
              "              (key): Linear(in_features=768, out_features=768, bias=True)\n",
              "              (value): Linear(in_features=768, out_features=768, bias=True)\n",
              "              (dropout): Dropout(p=0.1, inplace=False)\n",
              "            )\n",
              "            (output): BertSelfOutput(\n",
              "              (dense): Linear(in_features=768, out_features=768, bias=True)\n",
              "              (LayerNorm): LayerNorm((768,), eps=1e-05, elementwise_affine=True)\n",
              "              (dropout): Dropout(p=0.1, inplace=False)\n",
              "            )\n",
              "          )\n",
              "          (intermediate): BertIntermediate(\n",
              "            (dense): Linear(in_features=768, out_features=3072, bias=True)\n",
              "          )\n",
              "          (output): BertOutput(\n",
              "            (dense): Linear(in_features=3072, out_features=768, bias=True)\n",
              "            (LayerNorm): LayerNorm((768,), eps=1e-05, elementwise_affine=True)\n",
              "            (dropout): Dropout(p=0.1, inplace=False)\n",
              "          )\n",
              "        )\n",
              "        (4): BertLayer(\n",
              "          (attention): BertAttention(\n",
              "            (self): BertSelfAttention(\n",
              "              (query): Linear(in_features=768, out_features=768, bias=True)\n",
              "              (key): Linear(in_features=768, out_features=768, bias=True)\n",
              "              (value): Linear(in_features=768, out_features=768, bias=True)\n",
              "              (dropout): Dropout(p=0.1, inplace=False)\n",
              "            )\n",
              "            (output): BertSelfOutput(\n",
              "              (dense): Linear(in_features=768, out_features=768, bias=True)\n",
              "              (LayerNorm): LayerNorm((768,), eps=1e-05, elementwise_affine=True)\n",
              "              (dropout): Dropout(p=0.1, inplace=False)\n",
              "            )\n",
              "          )\n",
              "          (intermediate): BertIntermediate(\n",
              "            (dense): Linear(in_features=768, out_features=3072, bias=True)\n",
              "          )\n",
              "          (output): BertOutput(\n",
              "            (dense): Linear(in_features=3072, out_features=768, bias=True)\n",
              "            (LayerNorm): LayerNorm((768,), eps=1e-05, elementwise_affine=True)\n",
              "            (dropout): Dropout(p=0.1, inplace=False)\n",
              "          )\n",
              "        )\n",
              "        (5): BertLayer(\n",
              "          (attention): BertAttention(\n",
              "            (self): BertSelfAttention(\n",
              "              (query): Linear(in_features=768, out_features=768, bias=True)\n",
              "              (key): Linear(in_features=768, out_features=768, bias=True)\n",
              "              (value): Linear(in_features=768, out_features=768, bias=True)\n",
              "              (dropout): Dropout(p=0.1, inplace=False)\n",
              "            )\n",
              "            (output): BertSelfOutput(\n",
              "              (dense): Linear(in_features=768, out_features=768, bias=True)\n",
              "              (LayerNorm): LayerNorm((768,), eps=1e-05, elementwise_affine=True)\n",
              "              (dropout): Dropout(p=0.1, inplace=False)\n",
              "            )\n",
              "          )\n",
              "          (intermediate): BertIntermediate(\n",
              "            (dense): Linear(in_features=768, out_features=3072, bias=True)\n",
              "          )\n",
              "          (output): BertOutput(\n",
              "            (dense): Linear(in_features=3072, out_features=768, bias=True)\n",
              "            (LayerNorm): LayerNorm((768,), eps=1e-05, elementwise_affine=True)\n",
              "            (dropout): Dropout(p=0.1, inplace=False)\n",
              "          )\n",
              "        )\n",
              "        (6): BertLayer(\n",
              "          (attention): BertAttention(\n",
              "            (self): BertSelfAttention(\n",
              "              (query): Linear(in_features=768, out_features=768, bias=True)\n",
              "              (key): Linear(in_features=768, out_features=768, bias=True)\n",
              "              (value): Linear(in_features=768, out_features=768, bias=True)\n",
              "              (dropout): Dropout(p=0.1, inplace=False)\n",
              "            )\n",
              "            (output): BertSelfOutput(\n",
              "              (dense): Linear(in_features=768, out_features=768, bias=True)\n",
              "              (LayerNorm): LayerNorm((768,), eps=1e-05, elementwise_affine=True)\n",
              "              (dropout): Dropout(p=0.1, inplace=False)\n",
              "            )\n",
              "          )\n",
              "          (intermediate): BertIntermediate(\n",
              "            (dense): Linear(in_features=768, out_features=3072, bias=True)\n",
              "          )\n",
              "          (output): BertOutput(\n",
              "            (dense): Linear(in_features=3072, out_features=768, bias=True)\n",
              "            (LayerNorm): LayerNorm((768,), eps=1e-05, elementwise_affine=True)\n",
              "            (dropout): Dropout(p=0.1, inplace=False)\n",
              "          )\n",
              "        )\n",
              "        (7): BertLayer(\n",
              "          (attention): BertAttention(\n",
              "            (self): BertSelfAttention(\n",
              "              (query): Linear(in_features=768, out_features=768, bias=True)\n",
              "              (key): Linear(in_features=768, out_features=768, bias=True)\n",
              "              (value): Linear(in_features=768, out_features=768, bias=True)\n",
              "              (dropout): Dropout(p=0.1, inplace=False)\n",
              "            )\n",
              "            (output): BertSelfOutput(\n",
              "              (dense): Linear(in_features=768, out_features=768, bias=True)\n",
              "              (LayerNorm): LayerNorm((768,), eps=1e-05, elementwise_affine=True)\n",
              "              (dropout): Dropout(p=0.1, inplace=False)\n",
              "            )\n",
              "          )\n",
              "          (intermediate): BertIntermediate(\n",
              "            (dense): Linear(in_features=768, out_features=3072, bias=True)\n",
              "          )\n",
              "          (output): BertOutput(\n",
              "            (dense): Linear(in_features=3072, out_features=768, bias=True)\n",
              "            (LayerNorm): LayerNorm((768,), eps=1e-05, elementwise_affine=True)\n",
              "            (dropout): Dropout(p=0.1, inplace=False)\n",
              "          )\n",
              "        )\n",
              "        (8): BertLayer(\n",
              "          (attention): BertAttention(\n",
              "            (self): BertSelfAttention(\n",
              "              (query): Linear(in_features=768, out_features=768, bias=True)\n",
              "              (key): Linear(in_features=768, out_features=768, bias=True)\n",
              "              (value): Linear(in_features=768, out_features=768, bias=True)\n",
              "              (dropout): Dropout(p=0.1, inplace=False)\n",
              "            )\n",
              "            (output): BertSelfOutput(\n",
              "              (dense): Linear(in_features=768, out_features=768, bias=True)\n",
              "              (LayerNorm): LayerNorm((768,), eps=1e-05, elementwise_affine=True)\n",
              "              (dropout): Dropout(p=0.1, inplace=False)\n",
              "            )\n",
              "          )\n",
              "          (intermediate): BertIntermediate(\n",
              "            (dense): Linear(in_features=768, out_features=3072, bias=True)\n",
              "          )\n",
              "          (output): BertOutput(\n",
              "            (dense): Linear(in_features=3072, out_features=768, bias=True)\n",
              "            (LayerNorm): LayerNorm((768,), eps=1e-05, elementwise_affine=True)\n",
              "            (dropout): Dropout(p=0.1, inplace=False)\n",
              "          )\n",
              "        )\n",
              "        (9): BertLayer(\n",
              "          (attention): BertAttention(\n",
              "            (self): BertSelfAttention(\n",
              "              (query): Linear(in_features=768, out_features=768, bias=True)\n",
              "              (key): Linear(in_features=768, out_features=768, bias=True)\n",
              "              (value): Linear(in_features=768, out_features=768, bias=True)\n",
              "              (dropout): Dropout(p=0.1, inplace=False)\n",
              "            )\n",
              "            (output): BertSelfOutput(\n",
              "              (dense): Linear(in_features=768, out_features=768, bias=True)\n",
              "              (LayerNorm): LayerNorm((768,), eps=1e-05, elementwise_affine=True)\n",
              "              (dropout): Dropout(p=0.1, inplace=False)\n",
              "            )\n",
              "          )\n",
              "          (intermediate): BertIntermediate(\n",
              "            (dense): Linear(in_features=768, out_features=3072, bias=True)\n",
              "          )\n",
              "          (output): BertOutput(\n",
              "            (dense): Linear(in_features=3072, out_features=768, bias=True)\n",
              "            (LayerNorm): LayerNorm((768,), eps=1e-05, elementwise_affine=True)\n",
              "            (dropout): Dropout(p=0.1, inplace=False)\n",
              "          )\n",
              "        )\n",
              "        (10): BertLayer(\n",
              "          (attention): BertAttention(\n",
              "            (self): BertSelfAttention(\n",
              "              (query): Linear(in_features=768, out_features=768, bias=True)\n",
              "              (key): Linear(in_features=768, out_features=768, bias=True)\n",
              "              (value): Linear(in_features=768, out_features=768, bias=True)\n",
              "              (dropout): Dropout(p=0.1, inplace=False)\n",
              "            )\n",
              "            (output): BertSelfOutput(\n",
              "              (dense): Linear(in_features=768, out_features=768, bias=True)\n",
              "              (LayerNorm): LayerNorm((768,), eps=1e-05, elementwise_affine=True)\n",
              "              (dropout): Dropout(p=0.1, inplace=False)\n",
              "            )\n",
              "          )\n",
              "          (intermediate): BertIntermediate(\n",
              "            (dense): Linear(in_features=768, out_features=3072, bias=True)\n",
              "          )\n",
              "          (output): BertOutput(\n",
              "            (dense): Linear(in_features=3072, out_features=768, bias=True)\n",
              "            (LayerNorm): LayerNorm((768,), eps=1e-05, elementwise_affine=True)\n",
              "            (dropout): Dropout(p=0.1, inplace=False)\n",
              "          )\n",
              "        )\n",
              "        (11): BertLayer(\n",
              "          (attention): BertAttention(\n",
              "            (self): BertSelfAttention(\n",
              "              (query): Linear(in_features=768, out_features=768, bias=True)\n",
              "              (key): Linear(in_features=768, out_features=768, bias=True)\n",
              "              (value): Linear(in_features=768, out_features=768, bias=True)\n",
              "              (dropout): Dropout(p=0.1, inplace=False)\n",
              "            )\n",
              "            (output): BertSelfOutput(\n",
              "              (dense): Linear(in_features=768, out_features=768, bias=True)\n",
              "              (LayerNorm): LayerNorm((768,), eps=1e-05, elementwise_affine=True)\n",
              "              (dropout): Dropout(p=0.1, inplace=False)\n",
              "            )\n",
              "          )\n",
              "          (intermediate): BertIntermediate(\n",
              "            (dense): Linear(in_features=768, out_features=3072, bias=True)\n",
              "          )\n",
              "          (output): BertOutput(\n",
              "            (dense): Linear(in_features=3072, out_features=768, bias=True)\n",
              "            (LayerNorm): LayerNorm((768,), eps=1e-05, elementwise_affine=True)\n",
              "            (dropout): Dropout(p=0.1, inplace=False)\n",
              "          )\n",
              "        )\n",
              "      )\n",
              "    )\n",
              "    (pooler): BertPooler(\n",
              "      (dense): Linear(in_features=768, out_features=768, bias=True)\n",
              "      (activation): Tanh()\n",
              "    )\n",
              "  )\n",
              "  (pre_classifier): Linear(in_features=768, out_features=768, bias=True)\n",
              "  (dropout): Dropout(p=0.3, inplace=False)\n",
              "  (classifier): Linear(in_features=768, out_features=2, bias=True)\n",
              ")"
            ]
          },
          "metadata": {},
          "execution_count": 20
        }
      ]
    },
    {
      "cell_type": "markdown",
      "metadata": {
        "id": "gsRa7gY3qE0n"
      },
      "source": [
        "<a id='section05'></a>\n",
        "### Fine Tuning the Model\n",
        "\n",
        "After all the effort of loading and preparing the data and datasets, creating the model and defining its loss and optimizer. This is probably the easier steps in the process. \n",
        "\n",
        "Here we define a training function that trains the model on the training dataset created above, specified number of times (EPOCH), An epoch defines how many times the complete data will be passed through the network. \n",
        "\n",
        "Following events happen in this function to fine tune the neural network:\n",
        "- The dataloader passes data to the model based on the batch size. \n",
        "- Subsequent output from the model and the actual category are compared to calculate the loss. \n",
        "- Loss value is used to optimize the weights of the neurons in the network.\n",
        "- After every 5000 steps the loss value is printed in the console.\n",
        "\n",
        "As you can see just in 1 epoch by the final step the model was working with a loss of 0.8141926634122427."
      ]
    },
    {
      "cell_type": "code",
      "metadata": {
        "id": "XYZ7YuJ5InOS"
      },
      "source": [
        "# Creating the loss function and optimizer\n",
        "loss_function = torch.nn.CrossEntropyLoss()\n",
        "optimizer = torch.optim.Adam(params =  mental_health_model.parameters(), lr=LEARNING_RATE)"
      ],
      "execution_count": null,
      "outputs": []
    },
    {
      "cell_type": "code",
      "metadata": {
        "id": "yPhA2V3iIpzN"
      },
      "source": [
        "def calcuate_accuracy(preds, targets):\n",
        "    n_correct = (preds==targets).sum().item()\n",
        "    return n_correct"
      ],
      "execution_count": null,
      "outputs": []
    },
    {
      "cell_type": "code",
      "metadata": {
        "id": "mhqvtY2SIup7"
      },
      "source": [
        "# Defining the training function on the 80% of the dataset for tuning the distilbert model\n",
        "# Here we define a training function that trains the model on the training dataset created above, specified number of times (EPOCH)\n",
        "# An epoch defines how many times the complete data will be passed through the network.\n",
        "def train(epoch):\n",
        "    tr_loss = 0\n",
        "    n_correct = 0\n",
        "    nb_tr_steps = 0\n",
        "    nb_tr_examples = 0\n",
        "    mental_health_model.train()\n",
        "    \n",
        "    # The dataloader passes data to the model based on the batch size\n",
        "    for i,data in tqdm(enumerate(training_loader, 0)):\n",
        "        #print(i)\n",
        "        # Here we pass the data to the GPU\n",
        "        ids = data['ids'].to(device, dtype = torch.long)\n",
        "        mask = data['mask'].to(device, dtype = torch.long)\n",
        "        token_type_ids = data['token_type_ids'].to(device, dtype = torch.long)\n",
        "        targets = data['targets'].to(device, dtype = torch.long)\n",
        "\n",
        "        outputs = mental_health_model(ids, mask, token_type_ids)\n",
        "        # Subsequent output from the model and the actual category are compared to calculate the loss.\n",
        "        # Here we compare predictions with targets and we calculate the loss \n",
        "        # Loss value is used to optimize the weights of the neurons in the network.\n",
        "        loss = loss_function(outputs, targets)\n",
        "        tr_loss += loss.item()\n",
        "\n",
        "        # big_Val = probability of the prediction and big_idx = label of the prediction (0 o 1) \n",
        "        big_val, big_idx = torch.max(outputs.data, dim=1)\n",
        "\n",
        "        # we calculate how many predictions are correct comparing big_idx(label) with the target\n",
        "        n_correct += calcuate_accuracy(big_idx, targets)\n",
        "\n",
        "        nb_tr_steps += 1\n",
        "        nb_tr_examples+=targets.size(0)\n",
        "        \n",
        "        # After every 5000 steps the loss value is printed in the console.\n",
        "        # vamos a mostrar los valores en la consola para ver como esta funcionando el algoritmo \n",
        "        if i%5000==0:\n",
        "            loss_step = tr_loss/nb_tr_steps\n",
        "            accu_step = (n_correct*100)/nb_tr_examples \n",
        "            print(f\"Training Loss per 5000 steps: {loss_step}\")\n",
        "            print(f\"Training Accuracy per 5000 steps: {accu_step}\")\n",
        "\n",
        "        # Pytorch is doing a zero_grad, backward propagation and optimizer step for the new iteration \n",
        "        # gradientes a 0, ya no se quiere tener la informacion para el siguiente epoch (VOLVER A EMPEZAR)\n",
        "        # poner a 0 los gradientes y luego el backward \n",
        "        optimizer.zero_grad()\n",
        "        loss.backward()\n",
        "        # where to move on the function space\n",
        "        optimizer.step()\n",
        "\n",
        "    print(f'The Total Accuracy for Epoch {epoch}: {(n_correct*100)/nb_tr_examples}')\n",
        "    epoch_loss = tr_loss/nb_tr_steps\n",
        "    epoch_accu = (n_correct*100)/nb_tr_examples\n",
        "    print(f\"Training Loss Epoch: {epoch_loss}\")\n",
        "    print(f\"Training Accuracy Epoch: {epoch_accu}\")\n",
        "\n",
        "    return "
      ],
      "execution_count": null,
      "outputs": []
    },
    {
      "cell_type": "code",
      "metadata": {
        "id": "Afn7xaunJHnI",
        "colab": {
          "base_uri": "https://localhost:8080/"
        },
        "outputId": "425b1178-5640-4795-fd6a-0e10501e01c7"
      },
      "source": [
        "EPOCHS = 1\n",
        "# 800/8 \n",
        "# training size / batch size of training \n",
        "for epoch in range(EPOCHS):\n",
        "    train(epoch)"
      ],
      "execution_count": null,
      "outputs": [
        {
          "output_type": "stream",
          "name": "stderr",
          "text": [
            "\r0it [00:00, ?it/s]"
          ]
        },
        {
          "output_type": "stream",
          "name": "stdout",
          "text": [
            "Training Loss per 5000 steps: 0.7254340648651123\n",
            "Training Accuracy per 5000 steps: 12.5\n"
          ]
        },
        {
          "output_type": "stream",
          "name": "stderr",
          "text": [
            "100it [36:09, 21.70s/it]"
          ]
        },
        {
          "output_type": "stream",
          "name": "stdout",
          "text": [
            "The Total Accuracy for Epoch 0: 82.375\n",
            "Training Loss Epoch: 0.44582631267607215\n",
            "Training Accuracy Epoch: 82.375\n"
          ]
        },
        {
          "output_type": "stream",
          "name": "stderr",
          "text": [
            "\n"
          ]
        }
      ]
    },
    {
      "cell_type": "markdown",
      "metadata": {
        "id": "vOcgTsovqE1A"
      },
      "source": [
        "<a id='section06'></a>\n",
        "### Validating the Model\n",
        "\n",
        "During the validation stage we pass the unseen data(Testing Dataset) to the model. This step determines how good the model performs on the unseen data. \n",
        "\n",
        "This unseen data is the 20% of `train.tsv` which was seperated during the Dataset creation stage. \n",
        "During the validation stage the weights of the model are not updated. Only the final output is compared to the actual value. This comparison is then used to calcuate the accuracy of the model. \n",
        "\n",
        "As you can see the model is predicting the correct category of a given sample to a 69.47% accuracy which can further be improved by training more."
      ]
    },
    {
      "cell_type": "code",
      "metadata": {
        "id": "lk1dsD-202jh"
      },
      "source": [
        "def my_valid(mental_health_model, validation_loader):\n",
        "    mental_health_model.eval()\n",
        "    n_correct = 0; n_wrong = 0; total = 0; tr_loss=0; nb_tr_steps=0; nb_tr_examples=0\n",
        "\n",
        "    with torch.no_grad():\n",
        "        pred_total=[]\n",
        "        targets_total = []\n",
        "        for i, data in tqdm(enumerate(validation_loader, 0)):\n",
        "            # Here we pass the data to the GPU\n",
        "            ids = data['ids'].to(device, dtype = torch.long)\n",
        "            mask = data['mask'].to(device, dtype = torch.long)\n",
        "            token_type_ids = data['token_type_ids'].to(device, dtype=torch.long)\n",
        "            targets = data['targets'].to(device, dtype = torch.long)\n",
        "\n",
        "            # Here we make the predictions\n",
        "            outputs = mental_health_model(ids, mask, token_type_ids).squeeze()\n",
        "            loss = loss_function(outputs, targets)\n",
        "            tr_loss += loss.item()\n",
        "            big_val, big_idx = torch.max(outputs.data, dim=1)\n",
        "            for v in big_idx:\n",
        "              pred_total.append(v)\n",
        "            for v in targets:\n",
        "              targets_total.append(v)\n",
        "    \n",
        "    return pred_total , targets_total\n",
        "    #return torch.reshape(torch.stack(pred_total),(-1,)), torch.reshape(torch.stack(targets_total),(-1,))\n"
      ],
      "execution_count": null,
      "outputs": []
    },
    {
      "cell_type": "code",
      "metadata": {
        "id": "rDZpD_pIh_4n",
        "colab": {
          "base_uri": "https://localhost:8080/"
        },
        "outputId": "d63d7533-aa45-4296-b01a-6efe009dd03d"
      },
      "source": [
        "from sklearn.metrics import accuracy_score, f1_score, precision_score, recall_score, classification_report, confusion_matrix\n",
        "predictions, targets = my_valid(mental_health_model, validation_loader)\n",
        "# tensor to numpy array\n",
        "#predictions_numpy = predictions.cpu().detach().numpy()\n",
        "#targets_numpy = targets.cpu().detach().numpy()\n",
        "#print(predictions_numpy)\n",
        "#print(targets_numpy)\n",
        "\n"
      ],
      "execution_count": null,
      "outputs": [
        {
          "output_type": "stream",
          "name": "stderr",
          "text": [
            "50it [02:53,  3.46s/it]\n"
          ]
        }
      ]
    },
    {
      "cell_type": "code",
      "metadata": {
        "id": "2ivlL9GnNL3E"
      },
      "source": [
        "tmp_pred= [v.numpy().item() for v in predictions]\n",
        "tmp_targets= [v.numpy().item() for v in targets]\n"
      ],
      "execution_count": null,
      "outputs": []
    },
    {
      "cell_type": "code",
      "metadata": {
        "colab": {
          "base_uri": "https://localhost:8080/",
          "height": 128
        },
        "id": "hq4buMAtQQMH",
        "outputId": "f8f66f55-366f-4af6-a417-5c0aac39a1ef"
      },
      "source": [
        "classification_report(tmp_targets,tmp_pred)"
      ],
      "execution_count": null,
      "outputs": [
        {
          "output_type": "stream",
          "name": "stderr",
          "text": [
            "/usr/local/lib/python3.7/dist-packages/sklearn/metrics/_classification.py:1272: UndefinedMetricWarning: Precision and F-score are ill-defined and being set to 0.0 in labels with no predicted samples. Use `zero_division` parameter to control this behavior.\n",
            "  _warn_prf(average, modifier, msg_start, len(result))\n"
          ]
        },
        {
          "output_type": "execute_result",
          "data": {
            "application/vnd.google.colaboratory.intrinsic+json": {
              "type": "string"
            },
            "text/plain": [
              "'              precision    recall  f1-score   support\\n\\n           0       0.00      0.00      0.00        32\\n           1       0.84      1.00      0.91       168\\n\\n    accuracy                           0.84       200\\n   macro avg       0.42      0.50      0.46       200\\nweighted avg       0.71      0.84      0.77       200\\n'"
            ]
          },
          "metadata": {},
          "execution_count": 88
        }
      ]
    },
    {
      "cell_type": "code",
      "metadata": {
        "colab": {
          "base_uri": "https://localhost:8080/"
        },
        "id": "m0Hp5J_TNcjr",
        "outputId": "0968ae40-2061-4b82-fc58-cefa8b5e9f72"
      },
      "source": [
        "f1_score(tmp_pred,tmp_targets)"
      ],
      "execution_count": null,
      "outputs": [
        {
          "output_type": "execute_result",
          "data": {
            "text/plain": [
              "0.9130434782608696"
            ]
          },
          "metadata": {},
          "execution_count": 79
        }
      ]
    },
    {
      "cell_type": "code",
      "metadata": {
        "colab": {
          "base_uri": "https://localhost:8080/"
        },
        "id": "kseSaO2TP9Q6",
        "outputId": "30808da9-d153-41cc-ac37-7b71b0556336"
      },
      "source": [
        "tmp_targets"
      ],
      "execution_count": null,
      "outputs": [
        {
          "output_type": "execute_result",
          "data": {
            "text/plain": [
              "[array(1),\n",
              " array(1),\n",
              " array(1),\n",
              " array(1),\n",
              " array(1),\n",
              " array(1),\n",
              " array(1),\n",
              " array(1),\n",
              " array(1),\n",
              " array(1),\n",
              " array(1),\n",
              " array(1),\n",
              " array(0),\n",
              " array(1),\n",
              " array(1),\n",
              " array(1),\n",
              " array(1),\n",
              " array(1),\n",
              " array(1),\n",
              " array(1),\n",
              " array(1),\n",
              " array(1),\n",
              " array(1),\n",
              " array(1),\n",
              " array(1),\n",
              " array(1),\n",
              " array(1),\n",
              " array(1),\n",
              " array(1),\n",
              " array(0),\n",
              " array(0),\n",
              " array(1),\n",
              " array(1),\n",
              " array(0),\n",
              " array(1),\n",
              " array(0),\n",
              " array(1),\n",
              " array(1),\n",
              " array(1),\n",
              " array(0),\n",
              " array(1),\n",
              " array(1),\n",
              " array(1),\n",
              " array(1),\n",
              " array(0),\n",
              " array(0),\n",
              " array(0),\n",
              " array(1),\n",
              " array(1),\n",
              " array(1),\n",
              " array(1),\n",
              " array(1),\n",
              " array(1),\n",
              " array(1),\n",
              " array(1),\n",
              " array(1),\n",
              " array(0),\n",
              " array(1),\n",
              " array(1),\n",
              " array(1),\n",
              " array(1),\n",
              " array(1),\n",
              " array(1),\n",
              " array(1),\n",
              " array(1),\n",
              " array(0),\n",
              " array(1),\n",
              " array(1),\n",
              " array(1),\n",
              " array(1),\n",
              " array(1),\n",
              " array(1),\n",
              " array(1),\n",
              " array(1),\n",
              " array(1),\n",
              " array(1),\n",
              " array(0),\n",
              " array(1),\n",
              " array(1),\n",
              " array(1),\n",
              " array(1),\n",
              " array(1),\n",
              " array(1),\n",
              " array(1),\n",
              " array(1),\n",
              " array(1),\n",
              " array(1),\n",
              " array(1),\n",
              " array(1),\n",
              " array(1),\n",
              " array(1),\n",
              " array(1),\n",
              " array(1),\n",
              " array(1),\n",
              " array(1),\n",
              " array(1),\n",
              " array(1),\n",
              " array(1),\n",
              " array(1),\n",
              " array(0),\n",
              " array(1),\n",
              " array(1),\n",
              " array(1),\n",
              " array(1),\n",
              " array(1),\n",
              " array(0),\n",
              " array(1),\n",
              " array(1),\n",
              " array(1),\n",
              " array(1),\n",
              " array(1),\n",
              " array(1),\n",
              " array(1),\n",
              " array(1),\n",
              " array(1),\n",
              " array(1),\n",
              " array(1),\n",
              " array(1),\n",
              " array(0),\n",
              " array(1),\n",
              " array(0),\n",
              " array(1),\n",
              " array(1),\n",
              " array(1),\n",
              " array(1),\n",
              " array(0),\n",
              " array(1),\n",
              " array(0),\n",
              " array(0),\n",
              " array(1),\n",
              " array(1),\n",
              " array(1),\n",
              " array(0),\n",
              " array(0),\n",
              " array(1),\n",
              " array(1),\n",
              " array(1),\n",
              " array(1),\n",
              " array(1),\n",
              " array(1),\n",
              " array(1),\n",
              " array(1),\n",
              " array(0),\n",
              " array(1),\n",
              " array(0),\n",
              " array(1),\n",
              " array(1),\n",
              " array(0),\n",
              " array(1),\n",
              " array(1),\n",
              " array(1),\n",
              " array(1),\n",
              " array(1),\n",
              " array(1),\n",
              " array(1),\n",
              " array(1),\n",
              " array(0),\n",
              " array(1),\n",
              " array(1),\n",
              " array(1),\n",
              " array(1),\n",
              " array(1),\n",
              " array(0),\n",
              " array(0),\n",
              " array(1),\n",
              " array(0),\n",
              " array(1),\n",
              " array(0),\n",
              " array(1),\n",
              " array(1),\n",
              " array(1),\n",
              " array(1),\n",
              " array(1),\n",
              " array(1),\n",
              " array(1),\n",
              " array(1),\n",
              " array(1),\n",
              " array(1),\n",
              " array(1),\n",
              " array(1),\n",
              " array(1),\n",
              " array(1),\n",
              " array(1),\n",
              " array(1),\n",
              " array(1),\n",
              " array(0),\n",
              " array(1),\n",
              " array(0),\n",
              " array(1),\n",
              " array(1),\n",
              " array(1),\n",
              " array(1),\n",
              " array(0),\n",
              " array(1),\n",
              " array(1),\n",
              " array(1),\n",
              " array(1),\n",
              " array(1),\n",
              " array(1),\n",
              " array(1)]"
            ]
          },
          "metadata": {},
          "execution_count": 81
        }
      ]
    },
    {
      "cell_type": "code",
      "metadata": {
        "colab": {
          "base_uri": "https://localhost:8080/"
        },
        "id": "KuUnACvZMc82",
        "outputId": "f3bc53f5-9871-4a6e-d928-20a81a62b430"
      },
      "source": [
        "tmp_pred"
      ],
      "execution_count": null,
      "outputs": [
        {
          "output_type": "execute_result",
          "data": {
            "text/plain": [
              "[array(1),\n",
              " array(1),\n",
              " array(1),\n",
              " array(1),\n",
              " array(1),\n",
              " array(1),\n",
              " array(1),\n",
              " array(1),\n",
              " array(1),\n",
              " array(1),\n",
              " array(1),\n",
              " array(1),\n",
              " array(1),\n",
              " array(1),\n",
              " array(1),\n",
              " array(1),\n",
              " array(1),\n",
              " array(1),\n",
              " array(1),\n",
              " array(1),\n",
              " array(1),\n",
              " array(1),\n",
              " array(1),\n",
              " array(1),\n",
              " array(1),\n",
              " array(1),\n",
              " array(1),\n",
              " array(1),\n",
              " array(1),\n",
              " array(1),\n",
              " array(1),\n",
              " array(1),\n",
              " array(1),\n",
              " array(1),\n",
              " array(1),\n",
              " array(1),\n",
              " array(1),\n",
              " array(1),\n",
              " array(1),\n",
              " array(1),\n",
              " array(1),\n",
              " array(1),\n",
              " array(1),\n",
              " array(1),\n",
              " array(1),\n",
              " array(1),\n",
              " array(1),\n",
              " array(1),\n",
              " array(1),\n",
              " array(1),\n",
              " array(1),\n",
              " array(1),\n",
              " array(1),\n",
              " array(1),\n",
              " array(1),\n",
              " array(1),\n",
              " array(1),\n",
              " array(1),\n",
              " array(1),\n",
              " array(1),\n",
              " array(1),\n",
              " array(1),\n",
              " array(1),\n",
              " array(1),\n",
              " array(1),\n",
              " array(1),\n",
              " array(1),\n",
              " array(1),\n",
              " array(1),\n",
              " array(1),\n",
              " array(1),\n",
              " array(1),\n",
              " array(1),\n",
              " array(1),\n",
              " array(1),\n",
              " array(1),\n",
              " array(1),\n",
              " array(1),\n",
              " array(1),\n",
              " array(1),\n",
              " array(1),\n",
              " array(1),\n",
              " array(1),\n",
              " array(1),\n",
              " array(1),\n",
              " array(1),\n",
              " array(1),\n",
              " array(1),\n",
              " array(1),\n",
              " array(1),\n",
              " array(1),\n",
              " array(1),\n",
              " array(1),\n",
              " array(1),\n",
              " array(1),\n",
              " array(1),\n",
              " array(1),\n",
              " array(1),\n",
              " array(1),\n",
              " array(1),\n",
              " array(1),\n",
              " array(1),\n",
              " array(1),\n",
              " array(1),\n",
              " array(1),\n",
              " array(1),\n",
              " array(1),\n",
              " array(1),\n",
              " array(1),\n",
              " array(1),\n",
              " array(1),\n",
              " array(1),\n",
              " array(1),\n",
              " array(1),\n",
              " array(1),\n",
              " array(1),\n",
              " array(1),\n",
              " array(1),\n",
              " array(1),\n",
              " array(1),\n",
              " array(1),\n",
              " array(1),\n",
              " array(1),\n",
              " array(1),\n",
              " array(1),\n",
              " array(1),\n",
              " array(1),\n",
              " array(1),\n",
              " array(1),\n",
              " array(1),\n",
              " array(1),\n",
              " array(1),\n",
              " array(1),\n",
              " array(1),\n",
              " array(1),\n",
              " array(1),\n",
              " array(1),\n",
              " array(1),\n",
              " array(1),\n",
              " array(1),\n",
              " array(1),\n",
              " array(1),\n",
              " array(1),\n",
              " array(1),\n",
              " array(1),\n",
              " array(1),\n",
              " array(1),\n",
              " array(1),\n",
              " array(1),\n",
              " array(1),\n",
              " array(1),\n",
              " array(1),\n",
              " array(1),\n",
              " array(1),\n",
              " array(1),\n",
              " array(1),\n",
              " array(1),\n",
              " array(1),\n",
              " array(1),\n",
              " array(1),\n",
              " array(1),\n",
              " array(1),\n",
              " array(1),\n",
              " array(1),\n",
              " array(1),\n",
              " array(1),\n",
              " array(1),\n",
              " array(1),\n",
              " array(1),\n",
              " array(1),\n",
              " array(1),\n",
              " array(1),\n",
              " array(1),\n",
              " array(1),\n",
              " array(1),\n",
              " array(1),\n",
              " array(1),\n",
              " array(1),\n",
              " array(1),\n",
              " array(1),\n",
              " array(1),\n",
              " array(1),\n",
              " array(1),\n",
              " array(1),\n",
              " array(1),\n",
              " array(1),\n",
              " array(1),\n",
              " array(1),\n",
              " array(1),\n",
              " array(1),\n",
              " array(1),\n",
              " array(1),\n",
              " array(1),\n",
              " array(1),\n",
              " array(1),\n",
              " array(1),\n",
              " array(1),\n",
              " array(1),\n",
              " array(1),\n",
              " array(1)]"
            ]
          },
          "metadata": {},
          "execution_count": 80
        }
      ]
    },
    {
      "cell_type": "code",
      "metadata": {
        "colab": {
          "base_uri": "https://localhost:8080/"
        },
        "id": "K6oY4IWCM4BO",
        "outputId": "50465ea4-6fdc-42c3-ce4d-554832a43ce7"
      },
      "source": [
        "torch.reshape(torch.stack(predictions),(-1,))"
      ],
      "execution_count": null,
      "outputs": [
        {
          "output_type": "execute_result",
          "data": {
            "text/plain": [
              "tensor([1, 1, 1, 1, 1, 1, 1, 1, 1, 1, 1, 1, 1, 1, 1, 1, 1, 1, 1, 1, 1, 1, 1, 1,\n",
              "        1, 1, 1, 1, 1, 1, 1, 1, 1, 1, 1, 1, 1, 1, 1, 1, 1, 1, 1, 1, 1, 1, 1, 1,\n",
              "        1, 1, 1, 1, 1, 1, 1, 1, 1, 1, 1, 1, 1, 1, 1, 1, 1, 1, 1, 1, 1, 1, 1, 1,\n",
              "        1, 1, 1, 1, 1, 1, 1, 1, 1, 1, 1, 1, 1, 1, 1, 1, 1, 1, 1, 1, 1, 1, 1, 1,\n",
              "        1, 1, 1, 1, 1, 1, 1, 1, 1, 1, 1, 1, 1, 1, 1, 1, 1, 1, 1, 1, 1, 1, 1, 1,\n",
              "        1, 1, 1, 1, 1, 1, 1, 1, 1, 1, 1, 1, 1, 1, 1, 1, 1, 1, 1, 1, 1, 1, 1, 1,\n",
              "        1, 1, 1, 1, 1, 1, 1, 1, 1, 1, 1, 1, 1, 1, 1, 1, 1, 1, 1, 1, 1, 1, 1, 1,\n",
              "        1, 1, 1, 1, 1, 1, 1, 1, 1, 1, 1, 1, 1, 1, 1, 1, 1, 1, 1, 1, 1, 1, 1, 1,\n",
              "        1, 1, 1, 1, 1, 1, 1, 1])"
            ]
          },
          "metadata": {},
          "execution_count": 62
        }
      ]
    },
    {
      "cell_type": "code",
      "metadata": {
        "colab": {
          "base_uri": "https://localhost:8080/"
        },
        "id": "cuJyzNEAMlZH",
        "outputId": "3e98cfe1-9fb2-4507-da08-a2d51f68dc7d"
      },
      "source": [
        "torch.stack(targets)"
      ],
      "execution_count": null,
      "outputs": [
        {
          "output_type": "execute_result",
          "data": {
            "text/plain": [
              "tensor([[1, 1, 1, 0],\n",
              "        [1, 1, 0, 1],\n",
              "        [1, 1, 1, 1],\n",
              "        [1, 1, 1, 1],\n",
              "        [1, 1, 1, 1],\n",
              "        [1, 0, 1, 1],\n",
              "        [1, 1, 1, 1],\n",
              "        [1, 1, 0, 1],\n",
              "        [1, 1, 1, 1],\n",
              "        [1, 1, 1, 1],\n",
              "        [1, 1, 1, 1],\n",
              "        [1, 1, 1, 0],\n",
              "        [1, 1, 0, 0],\n",
              "        [0, 1, 0, 1],\n",
              "        [1, 1, 1, 1],\n",
              "        [1, 1, 1, 1],\n",
              "        [1, 1, 1, 1],\n",
              "        [1, 1, 0, 1],\n",
              "        [1, 0, 1, 1],\n",
              "        [1, 0, 1, 1],\n",
              "        [0, 0, 1, 0],\n",
              "        [1, 1, 1, 1],\n",
              "        [1, 1, 1, 1],\n",
              "        [1, 1, 0, 1],\n",
              "        [1, 1, 1, 1],\n",
              "        [1, 1, 1, 0],\n",
              "        [0, 1, 0, 1],\n",
              "        [1, 1, 0, 1],\n",
              "        [0, 1, 1, 0],\n",
              "        [1, 1, 1, 0],\n",
              "        [1, 1, 1, 1],\n",
              "        [1, 1, 1, 1],\n",
              "        [1, 1, 1, 1],\n",
              "        [1, 1, 0, 1],\n",
              "        [1, 1, 1, 1],\n",
              "        [0, 1, 1, 0],\n",
              "        [1, 1, 1, 1],\n",
              "        [1, 1, 0, 1],\n",
              "        [1, 1, 1, 1],\n",
              "        [1, 1, 0, 0],\n",
              "        [1, 1, 0, 1],\n",
              "        [1, 1, 1, 1],\n",
              "        [1, 1, 1, 1],\n",
              "        [1, 1, 1, 0],\n",
              "        [1, 1, 1, 1],\n",
              "        [1, 1, 1, 0],\n",
              "        [1, 1, 1, 1],\n",
              "        [1, 1, 1, 1],\n",
              "        [1, 1, 1, 1],\n",
              "        [1, 1, 1, 1]])"
            ]
          },
          "metadata": {},
          "execution_count": 58
        }
      ]
    },
    {
      "cell_type": "code",
      "metadata": {
        "colab": {
          "base_uri": "https://localhost:8080/"
        },
        "id": "qmQJPUIaLndl",
        "outputId": "e3ad569a-7618-44d9-effd-6254aea54e64"
      },
      "source": [
        "targets"
      ],
      "execution_count": null,
      "outputs": [
        {
          "output_type": "execute_result",
          "data": {
            "text/plain": [
              "[tensor([1, 1, 1, 0]),\n",
              " tensor([1, 1, 0, 1]),\n",
              " tensor([1, 1, 1, 1]),\n",
              " tensor([1, 1, 1, 1]),\n",
              " tensor([1, 1, 1, 1]),\n",
              " tensor([1, 0, 1, 1]),\n",
              " tensor([1, 1, 1, 1]),\n",
              " tensor([1, 1, 0, 1]),\n",
              " tensor([1, 1, 1, 1]),\n",
              " tensor([1, 1, 1, 1]),\n",
              " tensor([1, 1, 1, 1]),\n",
              " tensor([1, 1, 1, 0]),\n",
              " tensor([1, 1, 0, 0]),\n",
              " tensor([0, 1, 0, 1]),\n",
              " tensor([1, 1, 1, 1]),\n",
              " tensor([1, 1, 1, 1]),\n",
              " tensor([1, 1, 1, 1]),\n",
              " tensor([1, 1, 0, 1]),\n",
              " tensor([1, 0, 1, 1]),\n",
              " tensor([1, 0, 1, 1]),\n",
              " tensor([0, 0, 1, 0]),\n",
              " tensor([1, 1, 1, 1]),\n",
              " tensor([1, 1, 1, 1]),\n",
              " tensor([1, 1, 0, 1]),\n",
              " tensor([1, 1, 1, 1]),\n",
              " tensor([1, 1, 1, 0]),\n",
              " tensor([0, 1, 0, 1]),\n",
              " tensor([1, 1, 0, 1]),\n",
              " tensor([0, 1, 1, 0]),\n",
              " tensor([1, 1, 1, 0]),\n",
              " tensor([1, 1, 1, 1]),\n",
              " tensor([1, 1, 1, 1]),\n",
              " tensor([1, 1, 1, 1]),\n",
              " tensor([1, 1, 0, 1]),\n",
              " tensor([1, 1, 1, 1]),\n",
              " tensor([0, 1, 1, 0]),\n",
              " tensor([1, 1, 1, 1]),\n",
              " tensor([1, 1, 0, 1]),\n",
              " tensor([1, 1, 1, 1]),\n",
              " tensor([1, 1, 0, 0]),\n",
              " tensor([1, 1, 0, 1]),\n",
              " tensor([1, 1, 1, 1]),\n",
              " tensor([1, 1, 1, 1]),\n",
              " tensor([1, 1, 1, 0]),\n",
              " tensor([1, 1, 1, 1]),\n",
              " tensor([1, 1, 1, 0]),\n",
              " tensor([1, 1, 1, 1]),\n",
              " tensor([1, 1, 1, 1]),\n",
              " tensor([1, 1, 1, 1]),\n",
              " tensor([1, 1, 1, 1])]"
            ]
          },
          "metadata": {},
          "execution_count": 56
        }
      ]
    },
    {
      "cell_type": "code",
      "metadata": {
        "colab": {
          "base_uri": "https://localhost:8080/"
        },
        "id": "0n2-fjbeKumQ",
        "outputId": "98bbba69-ce0f-4fe8-833a-53db8ffdb293"
      },
      "source": [
        "predictions"
      ],
      "execution_count": null,
      "outputs": [
        {
          "output_type": "execute_result",
          "data": {
            "text/plain": [
              "[tensor([1, 1, 1, 1]),\n",
              " tensor([1, 1, 1, 1]),\n",
              " tensor([1, 1, 1, 1]),\n",
              " tensor([1, 1, 1, 1]),\n",
              " tensor([1, 1, 1, 1]),\n",
              " tensor([1, 1, 1, 1]),\n",
              " tensor([1, 1, 1, 1]),\n",
              " tensor([1, 1, 1, 1]),\n",
              " tensor([1, 1, 1, 1]),\n",
              " tensor([1, 1, 1, 1]),\n",
              " tensor([1, 1, 1, 1]),\n",
              " tensor([1, 1, 1, 1]),\n",
              " tensor([1, 1, 1, 1]),\n",
              " tensor([1, 1, 1, 1]),\n",
              " tensor([1, 1, 1, 1]),\n",
              " tensor([1, 1, 1, 1]),\n",
              " tensor([1, 1, 1, 1]),\n",
              " tensor([1, 1, 1, 1]),\n",
              " tensor([1, 1, 1, 1]),\n",
              " tensor([1, 1, 1, 1]),\n",
              " tensor([1, 1, 1, 1]),\n",
              " tensor([1, 1, 1, 1]),\n",
              " tensor([1, 1, 1, 1]),\n",
              " tensor([1, 1, 1, 1]),\n",
              " tensor([1, 1, 1, 1]),\n",
              " tensor([1, 1, 1, 1]),\n",
              " tensor([1, 1, 1, 1]),\n",
              " tensor([1, 1, 1, 1]),\n",
              " tensor([1, 1, 1, 1]),\n",
              " tensor([1, 1, 1, 1]),\n",
              " tensor([1, 1, 1, 1]),\n",
              " tensor([1, 1, 1, 1]),\n",
              " tensor([1, 1, 1, 1]),\n",
              " tensor([1, 1, 1, 1]),\n",
              " tensor([1, 1, 1, 1]),\n",
              " tensor([1, 1, 1, 1]),\n",
              " tensor([1, 1, 1, 1]),\n",
              " tensor([1, 1, 1, 1]),\n",
              " tensor([1, 1, 1, 1]),\n",
              " tensor([1, 1, 1, 1]),\n",
              " tensor([1, 1, 1, 1]),\n",
              " tensor([1, 1, 1, 1]),\n",
              " tensor([1, 1, 1, 1]),\n",
              " tensor([1, 1, 1, 1]),\n",
              " tensor([1, 1, 1, 1]),\n",
              " tensor([1, 1, 1, 1]),\n",
              " tensor([1, 1, 1, 1]),\n",
              " tensor([1, 1, 1, 1]),\n",
              " tensor([1, 1, 1, 1]),\n",
              " tensor([1, 1, 1, 1])]"
            ]
          },
          "metadata": {},
          "execution_count": 55
        }
      ]
    },
    {
      "cell_type": "code",
      "metadata": {
        "id": "DYCFbmfK3hAr"
      },
      "source": [
        "# from sklearn.metrics import accuracy_score, f1_score, precision_score, recall_score, classification_report, confusion_matrix\n",
        "# predictions2, targets2 = my_valid2(model, testing_loader)\n",
        "# predictions_numpy2 = predictions.cpu().detach().numpy()\n",
        "# targets_numpy2 = targets.cpu().detach().numpy()\n",
        "# #print(predictions_numpy)\n",
        "# #print(targets_numpy)\n",
        "\n"
      ],
      "execution_count": null,
      "outputs": []
    },
    {
      "cell_type": "code",
      "metadata": {
        "id": "RwxwuEdQn2ZQ",
        "colab": {
          "base_uri": "https://localhost:8080/",
          "height": 171
        },
        "outputId": "7d71b3f3-6fd5-44ec-8ff3-bc27529cf114"
      },
      "source": [
        "recall_score(predictions_numpy,targets_numpy)\n"
      ],
      "execution_count": null,
      "outputs": [
        {
          "output_type": "error",
          "ename": "NameError",
          "evalue": "ignored",
          "traceback": [
            "\u001b[0;31m---------------------------------------------------------------------------\u001b[0m",
            "\u001b[0;31mNameError\u001b[0m                                 Traceback (most recent call last)",
            "\u001b[0;32m<ipython-input-71-be3b64c1253a>\u001b[0m in \u001b[0;36m<module>\u001b[0;34m()\u001b[0m\n\u001b[0;32m----> 1\u001b[0;31m \u001b[0mrecall_score\u001b[0m\u001b[0;34m(\u001b[0m\u001b[0mpredictions_numpy\u001b[0m\u001b[0;34m,\u001b[0m\u001b[0mtargets_numpy\u001b[0m\u001b[0;34m)\u001b[0m\u001b[0;34m\u001b[0m\u001b[0;34m\u001b[0m\u001b[0m\n\u001b[0m",
            "\u001b[0;31mNameError\u001b[0m: name 'predictions_numpy' is not defined"
          ]
        }
      ]
    },
    {
      "cell_type": "code",
      "metadata": {
        "id": "bvBv3FcS3uCs"
      },
      "source": [
        "#recall_score(predictions_numpy2,targets_numpy2)"
      ],
      "execution_count": null,
      "outputs": []
    },
    {
      "cell_type": "code",
      "metadata": {
        "id": "2IEjGwfvn1tW"
      },
      "source": [
        "precision_score(predictions_numpy,targets_numpy)\n"
      ],
      "execution_count": null,
      "outputs": []
    },
    {
      "cell_type": "code",
      "metadata": {
        "id": "JHJ-xpweoXCV"
      },
      "source": [
        "f1_score(predictions_numpy,targets_numpy)\n"
      ],
      "execution_count": null,
      "outputs": []
    },
    {
      "cell_type": "code",
      "metadata": {
        "id": "jcBvfFyCoXWo"
      },
      "source": [
        "accuracy_score(predictions_numpy,targets_numpy)"
      ],
      "execution_count": null,
      "outputs": []
    },
    {
      "cell_type": "markdown",
      "metadata": {
        "id": "tZgO6C1BqE1a"
      },
      "source": [
        "<a id='section07'></a>\n",
        "### Saving the Trained Model Artifacts for inference\n",
        "\n",
        "This is the final step in the process of fine tuning the model. \n",
        "\n",
        "The model and its vocabulary are saved locally. These files are then used in the future to make inference on new inputs of news headlines."
      ]
    },
    {
      "cell_type": "code",
      "metadata": {
        "id": "8eKt004BKjyT"
      },
      "source": [
        "output_model_file = 'pytorch_roberta_sentiment.bin'\n",
        "output_vocab_file = './'\n",
        "\n",
        "model_to_save = model\n",
        "torch.save(model_to_save, output_model_file)\n",
        "tokenizer.save_vocabulary(output_vocab_file)\n",
        "\n",
        "print('All files saved')\n",
        "print('This tutorial is completed')"
      ],
      "execution_count": null,
      "outputs": []
    }
  ]
}