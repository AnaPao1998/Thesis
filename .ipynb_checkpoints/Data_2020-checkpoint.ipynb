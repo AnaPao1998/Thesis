{
 "cells": [
  {
   "cell_type": "code",
   "execution_count": 1,
   "metadata": {},
   "outputs": [],
   "source": [
    "# Imports\n",
    "import os\n",
    "import pandas as pd "
   ]
  },
  {
   "cell_type": "code",
   "execution_count": 2,
   "metadata": {},
   "outputs": [
    {
     "data": {
      "text/plain": [
       "0"
      ]
     },
     "execution_count": 2,
     "metadata": {},
     "output_type": "execute_result"
    }
   ],
   "source": [
    "# Setting variables to be used in format string command below\n",
    "tweet_count = 2000\n",
    "text_query = \"diagnosed depression\"\n",
    "since_date = \"2020-01-01\"\n",
    "until_date = \"2021-01-01\"\n",
    "\n",
    "# Using OS library to call CLI commands in Python\n",
    "#os.system(f'snscrape --jsonl --max-results {tweet_count} --since {since_date} twitter-hashtag \"{text_query} until:{until_date}\"> text-query-tweets.json')\n",
    "os.system(f'snscrape --jsonl --max-results {tweet_count} --since {since_date} twitter-search \"{text_query} until:{until_date}\"> text-query-tweets.json')"
   ]
  },
  {
   "cell_type": "code",
   "execution_count": 3,
   "metadata": {},
   "outputs": [],
   "source": [
    "# Reads the json generated from the CLI command above and creates a pandas dataframe\n",
    "tweets_df1 = pd.read_json('text-query-tweets.json', lines=True)\n",
    "# Displays first 5 entries from dataframe\n",
    "#tweets_df1.head()"
   ]
  },
  {
   "cell_type": "code",
   "execution_count": null,
   "metadata": {},
   "outputs": [],
   "source": [
    "tweets_df1"
   ]
  },
  {
   "cell_type": "code",
   "execution_count": 4,
   "metadata": {},
   "outputs": [],
   "source": [
    "tweets_df1.to_csv('./tweets_english/diag_depression.csv', sep=',', index=False, encoding='utf-8-sig')"
   ]
  },
  {
   "cell_type": "code",
   "execution_count": null,
   "metadata": {},
   "outputs": [],
   "source": [
    "# Setting variables to be used in format string command below\n",
    "tweet_count = 500\n",
    "text_query = \"hate my depression\"\n",
    "since_date = \"2020-01-01\"\n",
    "until_date = \"2021-01-01\"\n",
    "\n",
    "# Using OS library to call CLI commands in Python\n",
    "#os.system(f'snscrape --jsonl --max-results {tweet_count} --since {since_date} twitter-hashtag \"{text_query} until:{until_date}\"> text-query-tweets.json')\n",
    "os.system(f'snscrape --jsonl --max-results {tweet_count} --since {since_date} twitter-search \"{text_query} until:{until_date}\"> text-query-tweets.json')"
   ]
  },
  {
   "cell_type": "code",
   "execution_count": null,
   "metadata": {},
   "outputs": [],
   "source": [
    "# Reads the json generated from the CLI command above and creates a pandas dataframe\n",
    "tweets_df2 = pd.read_json('text-query-tweets.json', lines=True)\n",
    "# Displays first 5 entries from dataframe\n",
    "#tweets_df1.head()"
   ]
  },
  {
   "cell_type": "code",
   "execution_count": null,
   "metadata": {},
   "outputs": [],
   "source": [
    "tweets_df2"
   ]
  },
  {
   "cell_type": "code",
   "execution_count": null,
   "metadata": {},
   "outputs": [],
   "source": [
    "tweets_df2.to_csv('./tweets_english/depression/hate_depression.csv', sep=',', index=False, encoding='utf-8-sig')"
   ]
  },
  {
   "cell_type": "code",
   "execution_count": 6,
   "metadata": {},
   "outputs": [
    {
     "ename": "KeyboardInterrupt",
     "evalue": "",
     "output_type": "error",
     "traceback": [
      "\u001b[1;31m---------------------------------------------------------------------------\u001b[0m",
      "\u001b[1;31mKeyboardInterrupt\u001b[0m                         Traceback (most recent call last)",
      "\u001b[1;32m<ipython-input-6-628ab6d68be1>\u001b[0m in \u001b[0;36m<module>\u001b[1;34m\u001b[0m\n\u001b[0;32m      7\u001b[0m \u001b[1;31m# Using OS library to call CLI commands in Python\u001b[0m\u001b[1;33m\u001b[0m\u001b[1;33m\u001b[0m\u001b[1;33m\u001b[0m\u001b[0m\n\u001b[0;32m      8\u001b[0m \u001b[1;31m#os.system(f'snscrape --jsonl --max-results {tweet_count} --since {since_date} twitter-hashtag \"{text_query} until:{until_date}\"> text-query-tweets.json')\u001b[0m\u001b[1;33m\u001b[0m\u001b[1;33m\u001b[0m\u001b[1;33m\u001b[0m\u001b[0m\n\u001b[1;32m----> 9\u001b[1;33m \u001b[0mos\u001b[0m\u001b[1;33m.\u001b[0m\u001b[0msystem\u001b[0m\u001b[1;33m(\u001b[0m\u001b[1;34mf'snscrape --jsonl --max-results {tweet_count} --since {since_date} twitter-search \"{text_query} until:{until_date}\"> text-query-tweets.json'\u001b[0m\u001b[1;33m)\u001b[0m\u001b[1;33m\u001b[0m\u001b[1;33m\u001b[0m\u001b[0m\n\u001b[0m",
      "\u001b[1;31mKeyboardInterrupt\u001b[0m: "
     ]
    }
   ],
   "source": [
    "# Setting variables to be used in format string command below\n",
    "tweet_count = 2000\n",
    "text_query = \"diagnosed bipolar disorder\"\n",
    "since_date = \"2020-01-01\"\n",
    "until_date = \"2021-01-01\"\n",
    "\n",
    "# Using OS library to call CLI commands in Python\n",
    "#os.system(f'snscrape --jsonl --max-results {tweet_count} --since {since_date} twitter-hashtag \"{text_query} until:{until_date}\"> text-query-tweets.json')\n",
    "os.system(f'snscrape --jsonl --max-results {tweet_count} --since {since_date} twitter-search \"{text_query} until:{until_date}\"> text-query-tweets.json')"
   ]
  },
  {
   "cell_type": "code",
   "execution_count": null,
   "metadata": {},
   "outputs": [],
   "source": [
    "# Reads the json generated from the CLI command above and creates a pandas dataframe\n",
    "tweets_df3 = pd.read_json('text-query-tweets.json', lines=True)\n",
    "# Displays first 5 entries from dataframe\n",
    "#tweets_df1.head()"
   ]
  },
  {
   "cell_type": "code",
   "execution_count": null,
   "metadata": {},
   "outputs": [],
   "source": [
    "tweets_df3"
   ]
  },
  {
   "cell_type": "code",
   "execution_count": null,
   "metadata": {},
   "outputs": [],
   "source": [
    "tweets_df3.to_csv('./tweets_english/bipolar/diag_bipolar.csv', sep=',', index=False, encoding='utf-8-sig')"
   ]
  },
  {
   "cell_type": "code",
   "execution_count": null,
   "metadata": {},
   "outputs": [],
   "source": [
    "# Setting variables to be used in format string command below\n",
    "tweet_count = 2000\n",
    "text_query = \"hate my bipolar disorder\"\n",
    "since_date = \"2020-01-01\"\n",
    "until_date = \"2021-01-01\"\n",
    "\n",
    "# Using OS library to call CLI commands in Python\n",
    "#os.system(f'snscrape --jsonl --max-results {tweet_count} --since {since_date} twitter-hashtag \"{text_query} until:{until_date}\"> text-query-tweets.json')\n",
    "os.system(f'snscrape --jsonl --max-results {tweet_count} --since {since_date} twitter-search \"{text_query} until:{until_date}\"> text-query-tweets.json')"
   ]
  },
  {
   "cell_type": "code",
   "execution_count": null,
   "metadata": {},
   "outputs": [],
   "source": [
    "# Reads the json generated from the CLI command above and creates a pandas dataframe\n",
    "tweets_df4 = pd.read_json('text-query-tweets.json', lines=True)\n",
    "# Displays first 5 entries from dataframe\n",
    "#tweets_df1.head()"
   ]
  },
  {
   "cell_type": "code",
   "execution_count": null,
   "metadata": {},
   "outputs": [],
   "source": [
    "tweets_df4"
   ]
  },
  {
   "cell_type": "code",
   "execution_count": null,
   "metadata": {},
   "outputs": [],
   "source": [
    "tweets_df4.to_csv('./tweets_english/bipolar/diag_bipolar.csv', sep=',', index=False, encoding='utf-8-sig')"
   ]
  },
  {
   "cell_type": "code",
   "execution_count": null,
   "metadata": {},
   "outputs": [],
   "source": [
    "# Setting variables to be used in format string command below\n",
    "tweet_count = 2000\n",
    "text_query = \"diagnosed ptsd\"\n",
    "since_date = \"2020-01-01\"\n",
    "until_date = \"2021-01-01\"\n",
    "\n",
    "# Using OS library to call CLI commands in Python\n",
    "#os.system(f'snscrape --jsonl --max-results {tweet_count} --since {since_date} twitter-hashtag \"{text_query} until:{until_date}\"> text-query-tweets.json')\n",
    "os.system(f'snscrape --jsonl --max-results {tweet_count} --since {since_date} twitter-search \"{text_query} until:{until_date}\"> text-query-tweets.json')"
   ]
  },
  {
   "cell_type": "code",
   "execution_count": null,
   "metadata": {},
   "outputs": [],
   "source": [
    "# Reads the json generated from the CLI command above and creates a pandas dataframe\n",
    "tweets_df4 = pd.read_json('text-query-tweets.json', lines=True)\n",
    "# Displays first 5 entries from dataframe\n",
    "#tweets_df1.head()"
   ]
  },
  {
   "cell_type": "code",
   "execution_count": null,
   "metadata": {},
   "outputs": [],
   "source": [
    "tweets_df4"
   ]
  },
  {
   "cell_type": "code",
   "execution_count": null,
   "metadata": {},
   "outputs": [],
   "source": [
    "tweets_df4.to_csv('./tweets_english/diag_ptsd.csv', sep=',', index=False, encoding='utf-8-sig')"
   ]
  },
  {
   "cell_type": "code",
   "execution_count": null,
   "metadata": {},
   "outputs": [],
   "source": [
    "# Setting variables to be used in format string command below\n",
    "tweet_count = 2000\n",
    "text_query = \"diagnosed social anxiety\"\n",
    "since_date = \"2020-01-01\"\n",
    "until_date = \"2021-01-01\"\n",
    "\n",
    "# Using OS library to call CLI commands in Python\n",
    "#os.system(f'snscrape --jsonl --max-results {tweet_count} --since {since_date} twitter-hashtag \"{text_query} until:{until_date}\"> text-query-tweets.json')\n",
    "os.system(f'snscrape --jsonl --max-results {tweet_count} --since {since_date} twitter-search \"{text_query} until:{until_date}\"> text-query-tweets.json')"
   ]
  },
  {
   "cell_type": "code",
   "execution_count": null,
   "metadata": {},
   "outputs": [],
   "source": [
    "# Reads the json generated from the CLI command above and creates a pandas dataframe\n",
    "tweets_df4 = pd.read_json('text-query-tweets.json', lines=True)\n",
    "# Displays first 5 entries from dataframe\n",
    "#tweets_df1.head()"
   ]
  },
  {
   "cell_type": "code",
   "execution_count": null,
   "metadata": {},
   "outputs": [],
   "source": [
    "tweets_df4"
   ]
  },
  {
   "cell_type": "code",
   "execution_count": null,
   "metadata": {},
   "outputs": [],
   "source": [
    "tweets_df4.to_csv('./tweets_english/diag_socialanxiety.csv', sep=',', index=False, encoding='utf-8-sig')"
   ]
  },
  {
   "cell_type": "code",
   "execution_count": null,
   "metadata": {},
   "outputs": [],
   "source": []
  }
 ],
 "metadata": {
  "kernelspec": {
   "display_name": "Python 3",
   "language": "python",
   "name": "python3"
  },
  "language_info": {
   "codemirror_mode": {
    "name": "ipython",
    "version": 3
   },
   "file_extension": ".py",
   "mimetype": "text/x-python",
   "name": "python",
   "nbconvert_exporter": "python",
   "pygments_lexer": "ipython3",
   "version": "3.8.5"
  }
 },
 "nbformat": 4,
 "nbformat_minor": 4
}
