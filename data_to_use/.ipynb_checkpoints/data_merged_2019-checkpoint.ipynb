{
 "cells": [
  {
   "cell_type": "code",
   "execution_count": 1,
   "id": "perfect-minneapolis",
   "metadata": {},
   "outputs": [],
   "source": [
    "# Imports\n",
    "import os\n",
    "import pandas as pd "
   ]
  },
  {
   "cell_type": "code",
   "execution_count": 2,
   "id": "related-spank",
   "metadata": {},
   "outputs": [],
   "source": [
    "# Here we read the csv file that that contains anxious tweets from 2019\n",
    "anxiety1_2019_df1 = pd.read_csv(\"./tweets_2019/anxiety/diag_socialanxiety.csv\")"
   ]
  },
  {
   "cell_type": "code",
   "execution_count": 3,
   "id": "opposite-adolescent",
   "metadata": {},
   "outputs": [],
   "source": [
    "#anxiety1_2019_df1"
   ]
  },
  {
   "cell_type": "code",
   "execution_count": 4,
   "id": "latin-cholesterol",
   "metadata": {},
   "outputs": [],
   "source": [
    "# Here we read the csv file that that contains anxious tweets from 2019\n",
    "anxiety2_2019_df2 = pd.read_csv(\"./tweets_2019/anxiety/hate_socialanxiety.csv\")"
   ]
  },
  {
   "cell_type": "code",
   "execution_count": 5,
   "id": "recorded-shelf",
   "metadata": {},
   "outputs": [],
   "source": [
    "#anxiety2_2019_df2"
   ]
  },
  {
   "cell_type": "code",
   "execution_count": 6,
   "id": "falling-diagnosis",
   "metadata": {},
   "outputs": [],
   "source": [
    "frames = [anxiety1_2019_df1, anxiety2_2019_df2]"
   ]
  },
  {
   "cell_type": "code",
   "execution_count": 7,
   "id": "designing-cover",
   "metadata": {},
   "outputs": [],
   "source": [
    "# Here we concatenate the df's\n",
    "result_anxiety_2019 = pd.concat(frames)"
   ]
  },
  {
   "cell_type": "code",
   "execution_count": 8,
   "id": "early-brake",
   "metadata": {},
   "outputs": [],
   "source": [
    "#result_anxiety_2019"
   ]
  },
  {
   "cell_type": "code",
   "execution_count": 9,
   "id": "complex-vegetarian",
   "metadata": {},
   "outputs": [],
   "source": [
    "# Here we export the tweets deleting the duplicated ones \n",
    "result_anxiety_2019.drop_duplicates().to_csv('./merged_data/2019/anxiety_2019.csv', sep=',', index=False, encoding='utf-8-sig')"
   ]
  },
  {
   "cell_type": "code",
   "execution_count": 10,
   "id": "tired-subscriber",
   "metadata": {},
   "outputs": [],
   "source": [
    "# Here we read the csv file that that contains depressed tweets from 2019\n",
    "depression1_2019_df1 = pd.read_csv(\"./tweets_2019/depression/diag_depression.csv\")"
   ]
  },
  {
   "cell_type": "code",
   "execution_count": 11,
   "id": "weighted-student",
   "metadata": {},
   "outputs": [],
   "source": [
    "#depression1_2019_df1"
   ]
  },
  {
   "cell_type": "code",
   "execution_count": 12,
   "id": "authentic-casting",
   "metadata": {},
   "outputs": [],
   "source": [
    "# Here we read the csv file that that contains depressed tweets from 2019\n",
    "depression2_2019_df2 = pd.read_csv(\"./tweets_2019/depression/hate_depression.csv\")"
   ]
  },
  {
   "cell_type": "code",
   "execution_count": 13,
   "id": "sixth-guess",
   "metadata": {},
   "outputs": [],
   "source": [
    "#depression2_2019_df2"
   ]
  },
  {
   "cell_type": "code",
   "execution_count": 14,
   "id": "confident-incentive",
   "metadata": {},
   "outputs": [],
   "source": [
    "frames2 = [depression1_2019_df1, depression2_2019_df2]"
   ]
  },
  {
   "cell_type": "code",
   "execution_count": 15,
   "id": "sufficient-deadline",
   "metadata": {},
   "outputs": [],
   "source": [
    "# Here we concatenate the df's\n",
    "result_depression_2019 = pd.concat(frames2)"
   ]
  },
  {
   "cell_type": "code",
   "execution_count": 16,
   "id": "champion-anaheim",
   "metadata": {},
   "outputs": [],
   "source": [
    "#result_depression_2019"
   ]
  },
  {
   "cell_type": "code",
   "execution_count": 17,
   "id": "sorted-racing",
   "metadata": {},
   "outputs": [],
   "source": [
    "# Here we export the tweets deleting the duplicated ones\n",
    "result_depression_2019.drop_duplicates().to_csv('./merged_data/2019/depression_2019.csv', sep=',', index=False, encoding='utf-8-sig')"
   ]
  },
  {
   "cell_type": "code",
   "execution_count": null,
   "id": "inappropriate-polish",
   "metadata": {},
   "outputs": [],
   "source": []
  }
 ],
 "metadata": {
  "kernelspec": {
   "display_name": "Python 3",
   "language": "python",
   "name": "python3"
  },
  "language_info": {
   "codemirror_mode": {
    "name": "ipython",
    "version": 3
   },
   "file_extension": ".py",
   "mimetype": "text/x-python",
   "name": "python",
   "nbconvert_exporter": "python",
   "pygments_lexer": "ipython3",
   "version": "3.8.5"
  }
 },
 "nbformat": 4,
 "nbformat_minor": 5
}
