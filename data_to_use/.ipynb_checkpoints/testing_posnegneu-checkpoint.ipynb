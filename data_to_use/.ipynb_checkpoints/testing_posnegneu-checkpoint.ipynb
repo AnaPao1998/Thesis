{
 "cells": [
  {
   "cell_type": "code",
   "execution_count": 11,
   "id": "general-asset",
   "metadata": {},
   "outputs": [],
   "source": [
    "def preprocess(text):\n",
    "    new_text = []\n",
    "    for t in text.split(\" \"):\n",
    "        t = '@user' if t.startswith('@') and len(t) > 1 else t\n",
    "        t = 'http' if t.startswith('http') else t\n",
    "        new_text.append(t)\n",
    "    return \" \".join(new_text)"
   ]
  },
  {
   "cell_type": "code",
   "execution_count": 12,
   "id": "material-kelly",
   "metadata": {},
   "outputs": [],
   "source": [
    "from transformers import AutoModelForSequenceClassification\n",
    "from transformers import TFAutoModelForSequenceClassification\n",
    "from transformers import AutoTokenizer\n",
    "import numpy as np\n",
    "from scipy.special import softmax\n",
    "import csv\n",
    "import urllib.request\n",
    "\n",
    "task='sentiment'\n",
    "MODEL = f\"cardiffnlp/twitter-roberta-base-{task}\"\n",
    "\n",
    "tokenizer = AutoTokenizer.from_pretrained(MODEL)"
   ]
  },
  {
   "cell_type": "code",
   "execution_count": 59,
   "id": "textile-insulin",
   "metadata": {},
   "outputs": [
    {
     "data": {
      "text/plain": [
       "['negative', 'neutral', 'positive']"
      ]
     },
     "execution_count": 59,
     "metadata": {},
     "output_type": "execute_result"
    }
   ],
   "source": [
    "# download label mapping\n",
    "mapping_link = f\"https://raw.githubusercontent.com/cardiffnlp/tweeteval/main/datasets/{task}/mapping.txt\"\n",
    "with urllib.request.urlopen(mapping_link) as f:\n",
    "    html = f.read().decode('utf-8').split(\"\\n\")\n",
    "    csvreader = csv.reader(html, delimiter='\\t')\n",
    "labels = [row[1] for row in csvreader if len(row) > 1]\n",
    "labels"
   ]
  },
  {
   "cell_type": "code",
   "execution_count": 60,
   "id": "expensive-equity",
   "metadata": {},
   "outputs": [
    {
     "name": "stderr",
     "output_type": "stream",
     "text": [
      "All model checkpoint layers were used when initializing TFRobertaForSequenceClassification.\n",
      "\n",
      "All the layers of TFRobertaForSequenceClassification were initialized from the model checkpoint at cardiffnlp/twitter-roberta-base-sentiment.\n",
      "If your task is similar to the task the model of the checkpoint was trained on, you can already use TFRobertaForSequenceClassification for predictions without further training.\n"
     ]
    }
   ],
   "source": [
    "# PT\n",
    "#model = AutoModelForSequenceClassification.from_pretrained(MODEL)\n",
    "\n",
    "#text = \"Good night 😊\"\n",
    "#text = preprocess(text)\n",
    "#encoded_input = tokenizer(text, return_tensors='pt')\n",
    "#output = model(**encoded_input)\n",
    "#scores = output[0][0].detach().numpy()\n",
    "#scores = softmax(scores)\n",
    "\n",
    "# # TF\n",
    "model = TFAutoModelForSequenceClassification.from_pretrained(MODEL)\n",
    "\n",
    "text = \"10 years ago I was diagnosed with ADHD and put on a heavy dose of ritalin which backfired. Ended up with extreme anxiety and depression. Started university and I quit the drugs and I had no idea who I was. Struggling a lot with identity.\"\n",
    "encoded_input = tokenizer(text, return_tensors='tf')\n",
    "output = model(encoded_input)\n",
    "scores = output[0][0].numpy()\n",
    "scores = softmax(scores)"
   ]
  },
  {
   "cell_type": "code",
   "execution_count": 61,
   "id": "arabic-numbers",
   "metadata": {},
   "outputs": [
    {
     "name": "stdout",
     "output_type": "stream",
     "text": [
      "1) negative 0.9308\n",
      "2) neutral 0.0632\n",
      "3) positive 0.0061\n"
     ]
    }
   ],
   "source": [
    "ranking = np.argsort(scores)\n",
    "ranking = ranking[::-1]\n",
    "for i in range(scores.shape[0]):\n",
    "    l = labels[ranking[i]]\n",
    "    s = scores[ranking[i]]\n",
    "    print(f\"{i+1}) {l} {np.round(float(s), 4)}\")"
   ]
  },
  {
   "cell_type": "code",
   "execution_count": 62,
   "id": "intellectual-honor",
   "metadata": {},
   "outputs": [],
   "source": [
    "# esta function retonra los labaels del modelo (negativo, neutral, positivo) \n",
    "# recibe un texto de input y retorna string (.. ) \n",
    "# es paa usarl con el apply y lambda funciton de pandas \n",
    "def return_labels(text):\n",
    "    encoded_input = tokenizer(text, return_tensors='tf')\n",
    "    output = model(encoded_input)\n",
    "    scores = output[0][0].numpy()\n",
    "    scores = softmax(scores)\n",
    "    ranking = np.argsort(scores)\n",
    "    ranking = ranking[::-1]\n",
    "    label = labels[ranking[0]]\n",
    "    return label "
   ]
  },
  {
   "cell_type": "code",
   "execution_count": 77,
   "id": "clinical-worcester",
   "metadata": {},
   "outputs": [],
   "source": [
    "\n",
    "# esta function retonra los probabilidades (para analizar que tan \"seguro\" esta el modelo de las predicciones) \n",
    "# del modelo (negativo, neutral, positivo) \n",
    "# recibe un texto de input y retorna string (.. ) \n",
    "# es paa usarl con el apply y lambda funciton de pandas \n",
    "def return_prob(text):\n",
    "    encoded_input = tokenizer(text, return_tensors='tf')\n",
    "    output = model(encoded_input)\n",
    "    scores = output[0][0].numpy()\n",
    "    scores = softmax(scores)\n",
    "    ranking = np.argsort(scores)\n",
    "    ranking = ranking[::-1]\n",
    "    return np.sort(scores)[-1]"
   ]
  },
  {
   "cell_type": "markdown",
   "id": "absent-password",
   "metadata": {},
   "source": [
    "#### Here we try with our own csv files"
   ]
  },
  {
   "cell_type": "code",
   "execution_count": 63,
   "id": "considered-haven",
   "metadata": {},
   "outputs": [],
   "source": [
    "import pandas as pd\n"
   ]
  },
  {
   "cell_type": "code",
   "execution_count": 82,
   "id": "female-helena",
   "metadata": {},
   "outputs": [],
   "source": [
    "anxiety_df = pd.read_csv('./preprocessed_data/2019/anxiety_2019.csv')\n",
    "to_model = anxiety_df[['content']].head()"
   ]
  },
  {
   "cell_type": "code",
   "execution_count": 83,
   "id": "inside-central",
   "metadata": {},
   "outputs": [
    {
     "data": {
      "text/html": [
       "<div>\n",
       "<style scoped>\n",
       "    .dataframe tbody tr th:only-of-type {\n",
       "        vertical-align: middle;\n",
       "    }\n",
       "\n",
       "    .dataframe tbody tr th {\n",
       "        vertical-align: top;\n",
       "    }\n",
       "\n",
       "    .dataframe thead th {\n",
       "        text-align: right;\n",
       "    }\n",
       "</style>\n",
       "<table border=\"1\" class=\"dataframe\">\n",
       "  <thead>\n",
       "    <tr style=\"text-align: right;\">\n",
       "      <th></th>\n",
       "      <th>content</th>\n",
       "    </tr>\n",
       "  </thead>\n",
       "  <tbody>\n",
       "    <tr>\n",
       "      <th>0</th>\n",
       "      <td>august: DESCENDANTS 3!!!!!!!!!! AHHHHHH IT WAS...</td>\n",
       "    </tr>\n",
       "    <tr>\n",
       "      <th>1</th>\n",
       "      <td>@VReality17 @Pondam1 @erburdette40 @roynd1 @Gr...</td>\n",
       "    </tr>\n",
       "    <tr>\n",
       "      <th>2</th>\n",
       "      <td>It's been a hell of a three years.  Since I've...</td>\n",
       "    </tr>\n",
       "    <tr>\n",
       "      <th>3</th>\n",
       "      <td>I struggled through early high school, then ha...</td>\n",
       "    </tr>\n",
       "    <tr>\n",
       "      <th>4</th>\n",
       "      <td>- finally went to the test cricket\\n- had my b...</td>\n",
       "    </tr>\n",
       "  </tbody>\n",
       "</table>\n",
       "</div>"
      ],
      "text/plain": [
       "                                             content\n",
       "0  august: DESCENDANTS 3!!!!!!!!!! AHHHHHH IT WAS...\n",
       "1  @VReality17 @Pondam1 @erburdette40 @roynd1 @Gr...\n",
       "2  It's been a hell of a three years.  Since I've...\n",
       "3  I struggled through early high school, then ha...\n",
       "4  - finally went to the test cricket\\n- had my b..."
      ]
     },
     "execution_count": 83,
     "metadata": {},
     "output_type": "execute_result"
    }
   ],
   "source": [
    "to_model"
   ]
  },
  {
   "cell_type": "code",
   "execution_count": 84,
   "id": "refined-newspaper",
   "metadata": {},
   "outputs": [
    {
     "data": {
      "text/html": [
       "<div>\n",
       "<style scoped>\n",
       "    .dataframe tbody tr th:only-of-type {\n",
       "        vertical-align: middle;\n",
       "    }\n",
       "\n",
       "    .dataframe tbody tr th {\n",
       "        vertical-align: top;\n",
       "    }\n",
       "\n",
       "    .dataframe thead th {\n",
       "        text-align: right;\n",
       "    }\n",
       "</style>\n",
       "<table border=\"1\" class=\"dataframe\">\n",
       "  <thead>\n",
       "    <tr style=\"text-align: right;\">\n",
       "      <th></th>\n",
       "      <th>content</th>\n",
       "      <th>pre_proccessed</th>\n",
       "    </tr>\n",
       "  </thead>\n",
       "  <tbody>\n",
       "    <tr>\n",
       "      <th>0</th>\n",
       "      <td>august: DESCENDANTS 3!!!!!!!!!! AHHHHHH IT WAS...</td>\n",
       "      <td>august: DESCENDANTS 3!!!!!!!!!! AHHHHHH IT WAS...</td>\n",
       "    </tr>\n",
       "    <tr>\n",
       "      <th>1</th>\n",
       "      <td>@VReality17 @Pondam1 @erburdette40 @roynd1 @Gr...</td>\n",
       "      <td>@user @user @user @user @user @user Paramedic ...</td>\n",
       "    </tr>\n",
       "    <tr>\n",
       "      <th>2</th>\n",
       "      <td>It's been a hell of a three years.  Since I've...</td>\n",
       "      <td>It's been a hell of a three years.  Since I've...</td>\n",
       "    </tr>\n",
       "    <tr>\n",
       "      <th>3</th>\n",
       "      <td>I struggled through early high school, then ha...</td>\n",
       "      <td>I struggled through early high school, then ha...</td>\n",
       "    </tr>\n",
       "    <tr>\n",
       "      <th>4</th>\n",
       "      <td>- finally went to the test cricket\\n- had my b...</td>\n",
       "      <td>- finally went to the test cricket\\n- had my b...</td>\n",
       "    </tr>\n",
       "  </tbody>\n",
       "</table>\n",
       "</div>"
      ],
      "text/plain": [
       "                                             content  \\\n",
       "0  august: DESCENDANTS 3!!!!!!!!!! AHHHHHH IT WAS...   \n",
       "1  @VReality17 @Pondam1 @erburdette40 @roynd1 @Gr...   \n",
       "2  It's been a hell of a three years.  Since I've...   \n",
       "3  I struggled through early high school, then ha...   \n",
       "4  - finally went to the test cricket\\n- had my b...   \n",
       "\n",
       "                                      pre_proccessed  \n",
       "0  august: DESCENDANTS 3!!!!!!!!!! AHHHHHH IT WAS...  \n",
       "1  @user @user @user @user @user @user Paramedic ...  \n",
       "2  It's been a hell of a three years.  Since I've...  \n",
       "3  I struggled through early high school, then ha...  \n",
       "4  - finally went to the test cricket\\n- had my b...  "
      ]
     },
     "execution_count": 84,
     "metadata": {},
     "output_type": "execute_result"
    }
   ],
   "source": [
    "to_model['pre_proccessed'] = to_model['content'].apply(lambda x: preprocess(x)) # mejorar el pre_processing \n",
    "# textblob python para hacer tokenizer, lematizing, stemming\n",
    "# en el paper de este transformers ve como hacen su preprocessing y gtrata de hacer algo igual \n",
    "to_model"
   ]
  },
  {
   "cell_type": "code",
   "execution_count": 85,
   "id": "broad-dynamics",
   "metadata": {},
   "outputs": [
    {
     "data": {
      "text/html": [
       "<div>\n",
       "<style scoped>\n",
       "    .dataframe tbody tr th:only-of-type {\n",
       "        vertical-align: middle;\n",
       "    }\n",
       "\n",
       "    .dataframe tbody tr th {\n",
       "        vertical-align: top;\n",
       "    }\n",
       "\n",
       "    .dataframe thead th {\n",
       "        text-align: right;\n",
       "    }\n",
       "</style>\n",
       "<table border=\"1\" class=\"dataframe\">\n",
       "  <thead>\n",
       "    <tr style=\"text-align: right;\">\n",
       "      <th></th>\n",
       "      <th>content</th>\n",
       "      <th>pre_proccessed</th>\n",
       "      <th>label</th>\n",
       "      <th>probability</th>\n",
       "    </tr>\n",
       "  </thead>\n",
       "  <tbody>\n",
       "    <tr>\n",
       "      <th>0</th>\n",
       "      <td>august: DESCENDANTS 3!!!!!!!!!! AHHHHHH IT WAS...</td>\n",
       "      <td>august: DESCENDANTS 3!!!!!!!!!! AHHHHHH IT WAS...</td>\n",
       "      <td>positive</td>\n",
       "      <td>0.983254</td>\n",
       "    </tr>\n",
       "    <tr>\n",
       "      <th>1</th>\n",
       "      <td>@VReality17 @Pondam1 @erburdette40 @roynd1 @Gr...</td>\n",
       "      <td>@user @user @user @user @user @user Paramedic ...</td>\n",
       "      <td>neutral</td>\n",
       "      <td>0.448457</td>\n",
       "    </tr>\n",
       "    <tr>\n",
       "      <th>2</th>\n",
       "      <td>It's been a hell of a three years.  Since I've...</td>\n",
       "      <td>It's been a hell of a three years.  Since I've...</td>\n",
       "      <td>negative</td>\n",
       "      <td>0.931421</td>\n",
       "    </tr>\n",
       "    <tr>\n",
       "      <th>3</th>\n",
       "      <td>I struggled through early high school, then ha...</td>\n",
       "      <td>I struggled through early high school, then ha...</td>\n",
       "      <td>negative</td>\n",
       "      <td>0.880115</td>\n",
       "    </tr>\n",
       "    <tr>\n",
       "      <th>4</th>\n",
       "      <td>- finally went to the test cricket\\n- had my b...</td>\n",
       "      <td>- finally went to the test cricket\\n- had my b...</td>\n",
       "      <td>neutral</td>\n",
       "      <td>0.539919</td>\n",
       "    </tr>\n",
       "  </tbody>\n",
       "</table>\n",
       "</div>"
      ],
      "text/plain": [
       "                                             content  \\\n",
       "0  august: DESCENDANTS 3!!!!!!!!!! AHHHHHH IT WAS...   \n",
       "1  @VReality17 @Pondam1 @erburdette40 @roynd1 @Gr...   \n",
       "2  It's been a hell of a three years.  Since I've...   \n",
       "3  I struggled through early high school, then ha...   \n",
       "4  - finally went to the test cricket\\n- had my b...   \n",
       "\n",
       "                                      pre_proccessed     label  probability  \n",
       "0  august: DESCENDANTS 3!!!!!!!!!! AHHHHHH IT WAS...  positive     0.983254  \n",
       "1  @user @user @user @user @user @user Paramedic ...   neutral     0.448457  \n",
       "2  It's been a hell of a three years.  Since I've...  negative     0.931421  \n",
       "3  I struggled through early high school, then ha...  negative     0.880115  \n",
       "4  - finally went to the test cricket\\n- had my b...   neutral     0.539919  "
      ]
     },
     "execution_count": 85,
     "metadata": {},
     "output_type": "execute_result"
    }
   ],
   "source": [
    "to_model['label'] = to_model['pre_proccessed'].apply(lambda x: return_labels(x))\n",
    "to_model['probability'] = to_model['pre_proccessed'].apply(lambda x: return_prob(x))\n",
    "to_model"
   ]
  },
  {
   "cell_type": "code",
   "execution_count": null,
   "id": "female-insured",
   "metadata": {},
   "outputs": [],
   "source": []
  },
  {
   "cell_type": "code",
   "execution_count": null,
   "id": "subtle-flesh",
   "metadata": {},
   "outputs": [],
   "source": []
  },
  {
   "cell_type": "code",
   "execution_count": null,
   "id": "dangerous-signal",
   "metadata": {},
   "outputs": [],
   "source": []
  },
  {
   "cell_type": "code",
   "execution_count": null,
   "id": "selective-savage",
   "metadata": {},
   "outputs": [],
   "source": []
  },
  {
   "cell_type": "code",
   "execution_count": null,
   "id": "committed-refrigerator",
   "metadata": {},
   "outputs": [],
   "source": []
  }
 ],
 "metadata": {
  "kernelspec": {
   "display_name": "Python 3",
   "language": "python",
   "name": "python3"
  },
  "language_info": {
   "codemirror_mode": {
    "name": "ipython",
    "version": 3
   },
   "file_extension": ".py",
   "mimetype": "text/x-python",
   "name": "python",
   "nbconvert_exporter": "python",
   "pygments_lexer": "ipython3",
   "version": "3.8.5"
  }
 },
 "nbformat": 4,
 "nbformat_minor": 5
}
