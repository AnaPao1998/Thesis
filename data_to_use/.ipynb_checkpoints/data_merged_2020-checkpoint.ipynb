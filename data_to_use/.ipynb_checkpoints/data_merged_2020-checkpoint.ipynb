{
 "cells": [
  {
   "cell_type": "code",
   "execution_count": 1,
   "id": "affecting-arcade",
   "metadata": {},
   "outputs": [],
   "source": [
    "# Imports\n",
    "import os\n",
    "import pandas as pd "
   ]
  },
  {
   "cell_type": "code",
   "execution_count": 2,
   "id": "wound-collar",
   "metadata": {},
   "outputs": [],
   "source": [
    "# Here we read the csv file that that contains anxious tweets from 2020\n",
    "anxiety1_2020_df1 = pd.read_csv(\"./tweets_2020/anxiety/diag_socialanxiety.csv\")"
   ]
  },
  {
   "cell_type": "code",
   "execution_count": 3,
   "id": "alpha-internet",
   "metadata": {},
   "outputs": [],
   "source": [
    "#anxiety1_2020_df1"
   ]
  },
  {
   "cell_type": "code",
   "execution_count": 4,
   "id": "realistic-silly",
   "metadata": {},
   "outputs": [],
   "source": [
    "# Here we read the csv file that that contains anxious tweets from 2020\n",
    "anxiety2_2020_df2 = pd.read_csv(\"./tweets_2020/anxiety/hate_socialanxiety.csv\")"
   ]
  },
  {
   "cell_type": "code",
   "execution_count": 5,
   "id": "historical-worse",
   "metadata": {},
   "outputs": [],
   "source": [
    "#anxiety2_2020_df2"
   ]
  },
  {
   "cell_type": "code",
   "execution_count": 6,
   "id": "tender-accent",
   "metadata": {},
   "outputs": [],
   "source": [
    "frames = [anxiety1_2020_df1, anxiety2_2020_df2]"
   ]
  },
  {
   "cell_type": "code",
   "execution_count": 7,
   "id": "ruled-cartoon",
   "metadata": {},
   "outputs": [],
   "source": [
    "# Here we concatenate the df's\n",
    "result_anxiety_2020 = pd.concat(frames)"
   ]
  },
  {
   "cell_type": "code",
   "execution_count": 8,
   "id": "complimentary-slovenia",
   "metadata": {},
   "outputs": [],
   "source": [
    "#result_anxiety_2020"
   ]
  },
  {
   "cell_type": "code",
   "execution_count": 9,
   "id": "following-handbook",
   "metadata": {},
   "outputs": [],
   "source": [
    "# Here we export the tweets deleting the duplicated ones \n",
    "result_anxiety_2020.drop_duplicates().to_csv('./merged_data/2020/anxiety_2020.csv', sep=',', index=False, encoding='utf-8-sig')"
   ]
  },
  {
   "cell_type": "code",
   "execution_count": 10,
   "id": "varying-craps",
   "metadata": {},
   "outputs": [],
   "source": [
    "# Here we read the csv file that that contains depressed tweets from 2020\n",
    "depression1_2020_df1 = pd.read_csv(\"./tweets_2020/depression/diag_depression.csv\")"
   ]
  },
  {
   "cell_type": "code",
   "execution_count": 11,
   "id": "relevant-guatemala",
   "metadata": {},
   "outputs": [],
   "source": [
    "#depression1_2020_df1"
   ]
  },
  {
   "cell_type": "code",
   "execution_count": 12,
   "id": "surprising-insertion",
   "metadata": {},
   "outputs": [],
   "source": [
    "# Here we read the csv file that that contains depressed tweets from 2020\n",
    "depression2_2020_df2 = pd.read_csv(\"./tweets_2020/depression/hate_depression.csv\")"
   ]
  },
  {
   "cell_type": "code",
   "execution_count": 13,
   "id": "packed-adoption",
   "metadata": {},
   "outputs": [],
   "source": [
    "#depression2_2020_df2"
   ]
  },
  {
   "cell_type": "code",
   "execution_count": 14,
   "id": "widespread-provincial",
   "metadata": {},
   "outputs": [],
   "source": [
    "frames2 = [depression1_2020_df1, depression2_2020_df2]"
   ]
  },
  {
   "cell_type": "code",
   "execution_count": 15,
   "id": "joined-desert",
   "metadata": {},
   "outputs": [],
   "source": [
    "# Here we concatenate the df's\n",
    "result_depression_2020 = pd.concat(frames2)"
   ]
  },
  {
   "cell_type": "code",
   "execution_count": 16,
   "id": "moderate-tucson",
   "metadata": {},
   "outputs": [],
   "source": [
    "#result_depression_2020"
   ]
  },
  {
   "cell_type": "code",
   "execution_count": 17,
   "id": "stupid-luxembourg",
   "metadata": {},
   "outputs": [],
   "source": [
    "# Here we export the tweets deleting the duplicated ones\n",
    "result_depression_2020.drop_duplicates().to_csv('./merged_data/2020/depression_2020.csv', sep=',', index=False, encoding='utf-8-sig')"
   ]
  }
 ],
 "metadata": {
  "kernelspec": {
   "display_name": "Python 3",
   "language": "python",
   "name": "python3"
  },
  "language_info": {
   "codemirror_mode": {
    "name": "ipython",
    "version": 3
   },
   "file_extension": ".py",
   "mimetype": "text/x-python",
   "name": "python",
   "nbconvert_exporter": "python",
   "pygments_lexer": "ipython3",
   "version": "3.8.5"
  }
 },
 "nbformat": 4,
 "nbformat_minor": 5
}
