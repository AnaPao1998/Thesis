{
 "cells": [
  {
   "cell_type": "code",
   "execution_count": null,
   "id": "separate-advance",
   "metadata": {
    "scrolled": true
   },
   "outputs": [],
   "source": [
    "import pandas as pd \n",
    "pd.set_option(\"display.max_colwidth\", 400)\n",
    "import numpy as np \n",
    "import matplotlib.pyplot as plt \n",
    "import seaborn as sns\n",
    "import string\n",
    "import nltk # for text manipulation\n",
    "from nltk.corpus import stopwords\n",
    "import preprocessor as p\n",
    "import warnings \n",
    "warnings.filterwarnings(\"ignore\", category=DeprecationWarning)\n",
    "\n",
    "%matplotlib inline"
   ]
  },
  {
   "cell_type": "code",
   "execution_count": null,
   "id": "sapphire-perfume",
   "metadata": {},
   "outputs": [],
   "source": [
    "depression_df = pd.read_csv(\"./tweets_2019/depression/hate_depression.csv\")"
   ]
  },
  {
   "cell_type": "code",
   "execution_count": null,
   "id": "fluid-fighter",
   "metadata": {},
   "outputs": [],
   "source": [
    "#depression_df.info()"
   ]
  },
  {
   "cell_type": "code",
   "execution_count": null,
   "id": "unusual-cambridge",
   "metadata": {},
   "outputs": [],
   "source": [
    "depression_df.drop([\"content\",\"id\",\"user\",\"outlinks\",\"tcooutlinks\",\"replyCount\",\"retweetCount\",\"likeCount\",\"quoteCount\",\"conversationId\",\"lang\",\"source\",\"sourceUrl\",\"sourceLabel\",\"media\",\"retweetedTweet\",\"quotedTweet\",\"mentionedUsers\"] ,axis=1, inplace=True)"
   ]
  },
  {
   "cell_type": "code",
   "execution_count": null,
   "id": "figured-necessity",
   "metadata": {},
   "outputs": [],
   "source": [
    "depression_df.head(10)"
   ]
  },
  {
   "cell_type": "code",
   "execution_count": null,
   "id": "classified-retirement",
   "metadata": {},
   "outputs": [],
   "source": [
    "p.set_options(p.OPT.URL, p.OPT.EMOJI)\n",
    "p.clean('Preprocessor is #awesome 👍 https://github.com/s/preprocessor')"
   ]
  },
  {
   "cell_type": "code",
   "execution_count": null,
   "id": "smooth-amsterdam",
   "metadata": {},
   "outputs": [],
   "source": [
    "p.set_options(p.OPT.URL, p.OPT.EMOJI, p.OPT.MENTION, p.OPT.NUMBER)\n",
    "depression_df['pre_proccessed'] = depression_df['renderedContent'].apply(lambda x: p.clean(x)).str.lower()\n",
    "#depression_df.head(10)"
   ]
  },
  {
   "cell_type": "code",
   "execution_count": null,
   "id": "proprietary-tracker",
   "metadata": {},
   "outputs": [],
   "source": [
    "#removing punctuations, numbers and special characters\n",
    "#regular expression = any character that's not az or AZ or #\n",
    "depression_df['pre_proccessed'] = depression_df['pre_proccessed'].str.replace(\"[^a-zA-Z#]\", \" \")\n",
    "\n",
    "#removing short words\n",
    "depression_df['pre_proccessed'] = depression_df['pre_proccessed'].apply(lambda x: ' '.join([w for w in x.split() if len(w)>2]))\n",
    "\n",
    "depression_df.head(10) "
   ]
  },
  {
   "cell_type": "code",
   "execution_count": null,
   "id": "impaired-lender",
   "metadata": {},
   "outputs": [],
   "source": [
    "nltk.download('stopwords')"
   ]
  },
  {
   "cell_type": "code",
   "execution_count": null,
   "id": "faced-collectible",
   "metadata": {},
   "outputs": [],
   "source": [
    "stopwords_english = stopwords.words('english') \n",
    "\n",
    "print('Stop words\\n')\n",
    "print(stopwords_english)"
   ]
  },
  {
   "cell_type": "code",
   "execution_count": null,
   "id": "dutch-renaissance",
   "metadata": {},
   "outputs": [],
   "source": [
    "tokenized_tweet = depression_df['pre_proccessed'].apply(lambda x: x.split()) # tokenizing\n",
    "#tokenized_tweet[:10]"
   ]
  },
  {
   "cell_type": "code",
   "execution_count": null,
   "id": "scheduled-model",
   "metadata": {},
   "outputs": [],
   "source": [
    "# print(tokenized_tweet[:10])\n",
    "tweets_clean_dict = {}\n",
    "for num, sentence in enumerate(tokenized_tweet): #Go through every tweet in the list of tweets \n",
    "    tweets_clean = [] #create an empty list to save the cleaned tweet for each tweet \n",
    "    for word in sentence: #go through every word inside the \"dirty\" tweet and keep only the ones you want\n",
    "        if (word not in stopwords_english): \n",
    "            tweets_clean.append(word)\n",
    "    tweets_clean_dict[num] = tweets_clean #save the list of \"cleaned\" words (cleaned tweet) into a dict in the position num (0,1,2,... ,len(tweets))\n",
    "tweets_clean_dict"
   ]
  },
  {
   "cell_type": "code",
   "execution_count": null,
   "id": "ahead-general",
   "metadata": {},
   "outputs": [],
   "source": [
    "from nltk.tokenize.treebank import TreebankWordDetokenizer"
   ]
  },
  {
   "cell_type": "code",
   "execution_count": null,
   "id": "horizontal-execution",
   "metadata": {},
   "outputs": [],
   "source": [
    "TreebankWordDetokenizer().detokenize(tweets_clean_dict[1])"
   ]
  },
  {
   "cell_type": "code",
   "execution_count": null,
   "id": "automotive-brain",
   "metadata": {},
   "outputs": [],
   "source": [
    "detokenized_dict = {}\n",
    "for key, items in tweets_clean_dict.items():\n",
    "    detokenized_dict[key] = TreebankWordDetokenizer().detokenize(tweets_clean_dict[key])\n",
    "# detokenized_dict\n"
   ]
  },
  {
   "cell_type": "code",
   "execution_count": null,
   "id": "liberal-trance",
   "metadata": {},
   "outputs": [],
   "source": [
    "detokenized_dict[0]"
   ]
  },
  {
   "cell_type": "code",
   "execution_count": null,
   "id": "breeding-classic",
   "metadata": {},
   "outputs": [],
   "source": [
    "detokenized_df = pd.DataFrame.from_dict(detokenized_dict, orient='index')"
   ]
  },
  {
   "cell_type": "code",
   "execution_count": null,
   "id": "combined-johns",
   "metadata": {},
   "outputs": [],
   "source": [
    "detokenized_df.head(10)\n",
    "detokenized_df.rename(columns={0:'pre_processed'}, inplace=True)"
   ]
  },
  {
   "cell_type": "code",
   "execution_count": null,
   "id": "norman-professional",
   "metadata": {},
   "outputs": [],
   "source": [
    "from transformers import AutoModelForSequenceClassification\n",
    "from transformers import TFAutoModelForSequenceClassification\n",
    "from transformers import AutoTokenizer\n",
    "import numpy as np\n",
    "from scipy.special import softmax\n",
    "import csv\n",
    "import urllib.request\n",
    "\n",
    "task='sentiment'\n",
    "MODEL = f\"cardiffnlp/twitter-roberta-base-{task}\"\n",
    "\n",
    "tokenizer = AutoTokenizer.from_pretrained(MODEL)"
   ]
  },
  {
   "cell_type": "code",
   "execution_count": null,
   "id": "modular-wayne",
   "metadata": {},
   "outputs": [],
   "source": [
    "# download label mapping\n",
    "mapping_link = f\"https://raw.githubusercontent.com/cardiffnlp/tweeteval/main/datasets/{task}/mapping.txt\"\n",
    "with urllib.request.urlopen(mapping_link) as f:\n",
    "    html = f.read().decode('utf-8').split(\"\\n\")\n",
    "    csvreader = csv.reader(html, delimiter='\\t')\n",
    "labels = [row[1] for row in csvreader if len(row) > 1]\n",
    "labels"
   ]
  },
  {
   "cell_type": "code",
   "execution_count": null,
   "id": "former-thomas",
   "metadata": {},
   "outputs": [],
   "source": [
    "model = TFAutoModelForSequenceClassification.from_pretrained(MODEL)"
   ]
  },
  {
   "cell_type": "code",
   "execution_count": null,
   "id": "continued-mechanism",
   "metadata": {},
   "outputs": [],
   "source": [
    "# esta function retorna los labaels del modelo (negativo, neutral, positivo) \n",
    "# recibe un texto de input y retorna string (.. ) \n",
    "# es paa usarl con el apply y lambda funciton de pandas \n",
    "def return_labels(text):\n",
    "    encoded_input = tokenizer(text, return_tensors='tf')\n",
    "    output = model(encoded_input)\n",
    "    scores = output[0][0].numpy()\n",
    "    scores = softmax(scores)\n",
    "    ranking = np.argsort(scores)\n",
    "    ranking = ranking[::-1]\n",
    "    label = labels[ranking[0]]\n",
    "    return label "
   ]
  },
  {
   "cell_type": "code",
   "execution_count": null,
   "id": "annual-billion",
   "metadata": {},
   "outputs": [],
   "source": [
    "# esta function retorna los probabilidades (para analizar que tan \"seguro\" esta el modelo de las predicciones) \n",
    "# del modelo (negativo, neutral, positivo) \n",
    "# recibe un texto de input y retorna string (.. ) \n",
    "# es para usar con el apply y lambda function de pandas \n",
    "def return_prob(text):\n",
    "    encoded_input = tokenizer(text, return_tensors='tf')\n",
    "    output = model(encoded_input)\n",
    "    scores = output[0][0].numpy()\n",
    "    scores = softmax(scores)\n",
    "    ranking = np.argsort(scores)\n",
    "    ranking = ranking[::-1]\n",
    "    return np.sort(scores)[-1]"
   ]
  },
  {
   "cell_type": "code",
   "execution_count": null,
   "id": "bacterial-smith",
   "metadata": {},
   "outputs": [],
   "source": [
    "detokenized_df['label_sentiment'] = detokenized_df['pre_processed'].apply(lambda x: return_labels(x))\n",
    "detokenized_df['probability_sentiment'] = detokenized_df['pre_processed'].apply(lambda x: return_prob(x))\n",
    "detokenized_df"
   ]
  },
  {
   "cell_type": "code",
   "execution_count": null,
   "id": "certified-notion",
   "metadata": {},
   "outputs": [],
   "source": [
    "official_df = pd.concat([depression_df[['renderedContent']], detokenized_df], axis = 1)\n",
    "official_df"
   ]
  },
  {
   "cell_type": "code",
   "execution_count": null,
   "id": "straight-georgia",
   "metadata": {},
   "outputs": [],
   "source": []
  }
 ],
 "metadata": {
  "kernelspec": {
   "display_name": "Python 3",
   "language": "python",
   "name": "python3"
  },
  "language_info": {
   "codemirror_mode": {
    "name": "ipython",
    "version": 3
   },
   "file_extension": ".py",
   "mimetype": "text/x-python",
   "name": "python",
   "nbconvert_exporter": "python",
   "pygments_lexer": "ipython3",
   "version": "3.8.5"
  }
 },
 "nbformat": 4,
 "nbformat_minor": 5
}
