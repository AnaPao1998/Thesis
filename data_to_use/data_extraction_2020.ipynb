{
 "cells": [
  {
   "cell_type": "code",
   "execution_count": 1,
   "metadata": {},
   "outputs": [],
   "source": [
    "# Imports\n",
    "import os\n",
    "import pandas as pd "
   ]
  },
  {
   "cell_type": "code",
   "execution_count": 2,
   "metadata": {},
   "outputs": [
    {
     "data": {
      "text/plain": [
       "0"
      ]
     },
     "execution_count": 2,
     "metadata": {},
     "output_type": "execute_result"
    }
   ],
   "source": [
    "# Setting variables to be used in format string command below\n",
    "tweet_count = 4000\n",
    "text_query = \"diagnosed depression\"\n",
    "since_date = \"2020-01-01\"\n",
    "until_date = \"2021-01-01\"\n",
    "\n",
    "# Using OS library to call CLI commands in Python\n",
    "#os.system(f'snscrape --jsonl --max-results {tweet_count} --since {since_date} twitter-hashtag \"{text_query} until:{until_date}\"> text-query-tweets.json')\n",
    "os.system(f'snscrape --jsonl --max-results {tweet_count} --since {since_date} twitter-search \"{text_query} until:{until_date}\"> text-query-tweets.json')"
   ]
  },
  {
   "cell_type": "code",
   "execution_count": 3,
   "metadata": {},
   "outputs": [],
   "source": [
    "# Here we read the json generated from the CLI command above and creates a pandas dataframe\n",
    "tweets_df1 = pd.read_json('text-query-tweets.json', lines=True)\n",
    "# Displays first 5 entries from dataframe\n",
    "#tweets_df1.head()"
   ]
  },
  {
   "cell_type": "code",
   "execution_count": 4,
   "metadata": {},
   "outputs": [],
   "source": [
    "#tweets_df1"
   ]
  },
  {
   "cell_type": "code",
   "execution_count": 5,
   "metadata": {},
   "outputs": [],
   "source": [
    "# Here we export the tweets\n",
    "tweets_df1.to_csv('./tweets_2020/depression/diag_depression.csv', sep=',', index=False, encoding='utf-8-sig')"
   ]
  },
  {
   "cell_type": "code",
   "execution_count": 6,
   "metadata": {},
   "outputs": [
    {
     "data": {
      "text/plain": [
       "0"
      ]
     },
     "execution_count": 6,
     "metadata": {},
     "output_type": "execute_result"
    }
   ],
   "source": [
    "# Setting variables to be used in format string command below\n",
    "tweet_count = 1000\n",
    "text_query = \"hate my depression\"\n",
    "since_date = \"2020-01-01\"\n",
    "until_date = \"2021-01-01\"\n",
    "\n",
    "# Using OS library to call CLI commands in Python\n",
    "#os.system(f'snscrape --jsonl --max-results {tweet_count} --since {since_date} twitter-hashtag \"{text_query} until:{until_date}\"> text-query-tweets.json')\n",
    "os.system(f'snscrape --jsonl --max-results {tweet_count} --since {since_date} twitter-search \"{text_query} until:{until_date}\"> text-query-tweets.json')"
   ]
  },
  {
   "cell_type": "code",
   "execution_count": 7,
   "metadata": {},
   "outputs": [],
   "source": [
    "# Here we read the json generated from the CLI command above and creates a pandas dataframe\n",
    "tweets_df2 = pd.read_json('text-query-tweets.json', lines=True)\n",
    "# Displays first 5 entries from dataframe\n",
    "#tweets_df1.head()"
   ]
  },
  {
   "cell_type": "code",
   "execution_count": 8,
   "metadata": {},
   "outputs": [],
   "source": [
    "#tweets_df2"
   ]
  },
  {
   "cell_type": "code",
   "execution_count": 9,
   "metadata": {},
   "outputs": [],
   "source": [
    "# Here we export the tweets\n",
    "tweets_df2.to_csv('./tweets_2020/depression/hate_depression.csv', sep=',', index=False, encoding='utf-8-sig')"
   ]
  },
  {
   "cell_type": "code",
   "execution_count": 10,
   "metadata": {},
   "outputs": [
    {
     "data": {
      "text/plain": [
       "0"
      ]
     },
     "execution_count": 10,
     "metadata": {},
     "output_type": "execute_result"
    }
   ],
   "source": [
    "# Setting variables to be used in format string command below\n",
    "tweet_count = 4000\n",
    "text_query = \"diagnosed social anxiety\"\n",
    "since_date = \"2020-01-01\"\n",
    "until_date = \"2021-01-01\"\n",
    "\n",
    "# Using OS library to call CLI commands in Python\n",
    "#os.system(f'snscrape --jsonl --max-results {tweet_count} --since {since_date} twitter-hashtag \"{text_query} until:{until_date}\"> text-query-tweets.json')\n",
    "os.system(f'snscrape --jsonl --max-results {tweet_count} --since {since_date} twitter-search \"{text_query} until:{until_date}\"> text-query-tweets.json')"
   ]
  },
  {
   "cell_type": "code",
   "execution_count": 11,
   "metadata": {},
   "outputs": [],
   "source": [
    "# Here we read the json generated from the CLI command above and creates a pandas dataframe\n",
    "tweets_df3 = pd.read_json('text-query-tweets.json', lines=True)\n",
    "# Displays first 5 entries from dataframe\n",
    "#tweets_df1.head()"
   ]
  },
  {
   "cell_type": "code",
   "execution_count": 12,
   "metadata": {},
   "outputs": [],
   "source": [
    "#tweets_df3"
   ]
  },
  {
   "cell_type": "code",
   "execution_count": 13,
   "metadata": {},
   "outputs": [],
   "source": [
    "# Here we export the tweets\n",
    "tweets_df3.to_csv('./tweets_2020/anxiety/diag_socialanxiety.csv', sep=',', index=False, encoding='utf-8-sig')"
   ]
  },
  {
   "cell_type": "code",
   "execution_count": 14,
   "metadata": {},
   "outputs": [
    {
     "data": {
      "text/plain": [
       "0"
      ]
     },
     "execution_count": 14,
     "metadata": {},
     "output_type": "execute_result"
    }
   ],
   "source": [
    "# Setting variables to be used in format string command below\n",
    "tweet_count = 1000\n",
    "text_query = \"hate social anxiety\"\n",
    "since_date = \"2020-01-01\"\n",
    "until_date = \"2021-01-01\"\n",
    "\n",
    "# Using OS library to call CLI commands in Python\n",
    "#os.system(f'snscrape --jsonl --max-results {tweet_count} --since {since_date} twitter-hashtag \"{text_query} until:{until_date}\"> text-query-tweets.json')\n",
    "os.system(f'snscrape --jsonl --max-results {tweet_count} --since {since_date} twitter-search \"{text_query} until:{until_date}\"> text-query-tweets.json')"
   ]
  },
  {
   "cell_type": "code",
   "execution_count": 15,
   "metadata": {},
   "outputs": [],
   "source": [
    "# Here we read the json generated from the CLI command above and creates a pandas dataframe\n",
    "tweets_df4 = pd.read_json('text-query-tweets.json', lines=True)\n",
    "# Displays first 5 entries from dataframe\n",
    "#tweets_df1.head()"
   ]
  },
  {
   "cell_type": "code",
   "execution_count": 16,
   "metadata": {},
   "outputs": [],
   "source": [
    "#tweets_df4"
   ]
  },
  {
   "cell_type": "code",
   "execution_count": 17,
   "metadata": {},
   "outputs": [],
   "source": [
    "# Here we export the tweets\n",
    "tweets_df4.to_csv('./tweets_2020/anxiety/hate_socialanxiety.csv', sep=',', index=False, encoding='utf-8-sig')"
   ]
  }
 ],
 "metadata": {
  "kernelspec": {
   "display_name": "Python 3",
   "language": "python",
   "name": "python3"
  },
  "language_info": {
   "codemirror_mode": {
    "name": "ipython",
    "version": 3
   },
   "file_extension": ".py",
   "mimetype": "text/x-python",
   "name": "python",
   "nbconvert_exporter": "python",
   "pygments_lexer": "ipython3",
   "version": "3.8.5"
  }
 },
 "nbformat": 4,
 "nbformat_minor": 4
}
