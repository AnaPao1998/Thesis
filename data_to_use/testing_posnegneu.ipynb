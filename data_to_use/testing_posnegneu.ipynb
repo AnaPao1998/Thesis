{
 "cells": [
  {
   "cell_type": "code",
   "execution_count": 1,
   "id": "general-asset",
   "metadata": {},
   "outputs": [],
   "source": [
    "def preprocess(text):\n",
    "    new_text = []\n",
    "    for t in text.split(\" \"):\n",
    "        t = '@user' if t.startswith('@') and len(t) > 1 else t\n",
    "        t = 'http' if t.startswith('http') else t\n",
    "        new_text.append(t)\n",
    "    return \" \".join(new_text)"
   ]
  },
  {
   "cell_type": "code",
   "execution_count": 1,
   "id": "material-kelly",
   "metadata": {},
   "outputs": [],
   "source": [
    "from transformers import AutoModelForSequenceClassification\n",
    "from transformers import TFAutoModelForSequenceClassification\n",
    "from transformers import AutoTokenizer\n",
    "import numpy as np\n",
    "from scipy.special import softmax\n",
    "import csv\n",
    "import urllib.request\n",
    "\n",
    "task='irony'\n",
    "MODEL = f\"cardiffnlp/twitter-roberta-base-{task}\"\n",
    "# twitter-roberta-base-sentiment\n",
    "\n",
    "tokenizer = AutoTokenizer.from_pretrained(MODEL)"
   ]
  },
  {
   "cell_type": "code",
   "execution_count": 2,
   "id": "textile-insulin",
   "metadata": {},
   "outputs": [
    {
     "data": {
      "text/plain": [
       "['non_irony', 'irony']"
      ]
     },
     "execution_count": 2,
     "metadata": {},
     "output_type": "execute_result"
    }
   ],
   "source": [
    "# download label mapping\n",
    "mapping_link = f\"https://raw.githubusercontent.com/cardiffnlp/tweeteval/main/datasets/{task}/mapping.txt\"\n",
    "with urllib.request.urlopen(mapping_link) as f:\n",
    "    html = f.read().decode('utf-8').split(\"\\n\")\n",
    "    csvreader = csv.reader(html, delimiter='\\t')\n",
    "labels = [row[1] for row in csvreader if len(row) > 1]\n",
    "labels"
   ]
  },
  {
   "cell_type": "code",
   "execution_count": 7,
   "id": "expensive-equity",
   "metadata": {},
   "outputs": [
    {
     "name": "stderr",
     "output_type": "stream",
     "text": [
      "All model checkpoint layers were used when initializing TFRobertaForSequenceClassification.\n",
      "\n",
      "All the layers of TFRobertaForSequenceClassification were initialized from the model checkpoint at cardiffnlp/twitter-roberta-base-irony.\n",
      "If your task is similar to the task the model of the checkpoint was trained on, you can already use TFRobertaForSequenceClassification for predictions without further training.\n"
     ]
    }
   ],
   "source": [
    "# PT\n",
    "#model = AutoModelForSequenceClassification.from_pretrained(MODEL)\n",
    "\n",
    "#text = \"Good night 😊\"\n",
    "#text = preprocess(text)\n",
    "#encoded_input = tokenizer(text, return_tensors='pt')\n",
    "#output = model(**encoded_input)\n",
    "#scores = output[0][0].detach().numpy()\n",
    "#scores = softmax(scores)\n",
    "\n",
    "# # TF\n",
    "model = TFAutoModelForSequenceClassification.from_pretrained(MODEL)\n",
    "#model.save_pretrained(MODEL)\n",
    "\n",
    "text = \"First 2020 depression... yay... 👌🏻 I hate my life\"\n",
    "encoded_input = tokenizer(text, return_tensors='tf')\n",
    "output = model(encoded_input)\n",
    "scores = output[0][0].numpy()\n",
    "scores = softmax(scores)\n",
    "\n"
   ]
  },
  {
   "cell_type": "code",
   "execution_count": 8,
   "id": "arabic-numbers",
   "metadata": {},
   "outputs": [
    {
     "name": "stdout",
     "output_type": "stream",
     "text": [
      "1) irony 0.9808\n",
      "2) non_irony 0.0192\n"
     ]
    }
   ],
   "source": [
    "ranking = np.argsort(scores)\n",
    "ranking = ranking[::-1]\n",
    "for i in range(scores.shape[0]):\n",
    "    l = labels[ranking[i]]\n",
    "    s = scores[ranking[i]]\n",
    "    print(f\"{i+1}) {l} {np.round(float(s), 4)}\")"
   ]
  },
  {
   "cell_type": "code",
   "execution_count": null,
   "id": "adequate-parking",
   "metadata": {},
   "outputs": [],
   "source": []
  },
  {
   "cell_type": "code",
   "execution_count": null,
   "id": "increased-motivation",
   "metadata": {},
   "outputs": [],
   "source": []
  },
  {
   "cell_type": "code",
   "execution_count": null,
   "id": "directed-murray",
   "metadata": {},
   "outputs": [],
   "source": []
  },
  {
   "cell_type": "code",
   "execution_count": null,
   "id": "floating-equality",
   "metadata": {},
   "outputs": [],
   "source": []
  },
  {
   "cell_type": "code",
   "execution_count": 8,
   "id": "everyday-subcommittee",
   "metadata": {},
   "outputs": [],
   "source": [
    "# esta function retorna los labaels del modelo (negativo, neutral, positivo) \n",
    "# recibe un texto de input y retorna string (.. ) \n",
    "# es paa usarl con el apply y lambda funciton de pandas \n",
    "def return_labels(text):\n",
    "    encoded_input = tokenizer(text, return_tensors='tf')\n",
    "    output = model(encoded_input)\n",
    "    scores = output[0][0].numpy()\n",
    "    scores = softmax(scores)\n",
    "    ranking = np.argsort(scores)\n",
    "    ranking = ranking[::-1]\n",
    "    label = labels[ranking[0]]\n",
    "    return label "
   ]
  },
  {
   "cell_type": "code",
   "execution_count": 9,
   "id": "previous-victoria",
   "metadata": {},
   "outputs": [],
   "source": [
    "# esta function retorna los probabilidades (para analizar que tan \"seguro\" esta el modelo de las predicciones) \n",
    "# del modelo (negativo, neutral, positivo) \n",
    "# recibe un texto de input y retorna string (.. ) \n",
    "# es para usar con el apply y lambda function de pandas \n",
    "def return_prob(text):\n",
    "    encoded_input = tokenizer(text, return_tensors='tf')\n",
    "    output = model(encoded_input)\n",
    "    scores = output[0][0].numpy()\n",
    "    scores = softmax(scores)\n",
    "    ranking = np.argsort(scores)\n",
    "    ranking = ranking[::-1]\n",
    "    return np.sort(scores)[-1]"
   ]
  },
  {
   "cell_type": "markdown",
   "id": "upset-endorsement",
   "metadata": {},
   "source": [
    "#### Here we try with our own csv files"
   ]
  },
  {
   "cell_type": "code",
   "execution_count": null,
   "id": "inside-mortgage",
   "metadata": {},
   "outputs": [],
   "source": [
    "import pandas as pd\n"
   ]
  },
  {
   "cell_type": "code",
   "execution_count": null,
   "id": "intense-ordinary",
   "metadata": {},
   "outputs": [],
   "source": [
    "anxiety_df = pd.read_csv('./tweets_2019/depression/hate_depression.csv')\n",
    "to_model = anxiety_df[['content']].head()"
   ]
  },
  {
   "cell_type": "code",
   "execution_count": null,
   "id": "united-electron",
   "metadata": {},
   "outputs": [],
   "source": [
    "to_model"
   ]
  },
  {
   "cell_type": "code",
   "execution_count": null,
   "id": "private-occasions",
   "metadata": {},
   "outputs": [],
   "source": [
    "to_model['pre_proccessed'] = to_model['content'].apply(lambda x: preprocess(x)) # mejorar el pre_processing \n",
    "# textblob python para hacer tokenizer, lematizing, stemming\n",
    "# en el paper de este transformers ve como hacen su preprocessing y gtrata de hacer algo igual \n",
    "to_model"
   ]
  },
  {
   "cell_type": "code",
   "execution_count": null,
   "id": "cognitive-reduction",
   "metadata": {},
   "outputs": [],
   "source": [
    "to_model['label'] = to_model['pre_proccessed'].apply(lambda x: return_labels(x))\n",
    "to_model['probability'] = to_model['pre_proccessed'].apply(lambda x: return_prob(x))\n",
    "to_model"
   ]
  },
  {
   "cell_type": "code",
   "execution_count": null,
   "id": "considerable-station",
   "metadata": {},
   "outputs": [],
   "source": []
  }
 ],
 "metadata": {
  "kernelspec": {
   "display_name": "Python 3",
   "language": "python",
   "name": "python3"
  },
  "language_info": {
   "codemirror_mode": {
    "name": "ipython",
    "version": 3
   },
   "file_extension": ".py",
   "mimetype": "text/x-python",
   "name": "python",
   "nbconvert_exporter": "python",
   "pygments_lexer": "ipython3",
   "version": "3.8.5"
  }
 },
 "nbformat": 4,
 "nbformat_minor": 5
}
